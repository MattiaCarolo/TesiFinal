{
 "cells": [
  {
   "cell_type": "code",
   "execution_count": 3,
   "metadata": {},
   "outputs": [],
   "source": [
    "import os\n",
    "import re\n",
    "import sys\n",
    "import torch\n",
    "import hashlib\n",
    "import itertools\n",
    "import logging\n",
    "\n",
    "logging.basicConfig(level=logging.DEBUG, format='%(asctime)s - %(levelname)s - %(message)s')\n",
    "\n",
    "\n",
    "from progress.bar import Bar\n",
    "from concurrent.futures import ProcessPoolExecutor\n",
    "\n",
    "from Utils.NotesSeq import NoteSeq as ns\n",
    "from Utils.EventSeq import EventSeq as es\n",
    "from Utils.ControlSeq import ControlSeq as cs\n",
    "from Utils import utils\n",
    "\n",
    "import warnings\n",
    "warnings.filterwarnings(\"ignore\")"
   ]
  },
  {
   "cell_type": "code",
   "execution_count": 4,
   "metadata": {},
   "outputs": [],
   "source": [
    "def preprocess_midi(path):\n",
    "\n",
    "    note_seq = ns.from_midi_file(path)\n",
    "    iter = itertools.cycle(note_seq)\n",
    "\n",
    "    es1 = list\n",
    "    es2 = list\n",
    "\n",
    "    cs1 = list\n",
    "    cs2 = list\n",
    "    ev = True\n",
    "    #print(\"evaluating\")\n",
    "    for seq in iter:\n",
    "        #print(seq)\n",
    "        if ev:\n",
    "            #print(\"1st iter\")\n",
    "            seq.adjust_time(-seq.notes[0].start)\n",
    "            event_seq = es.from_note_seq(seq)\n",
    "            control_seq = cs.from_event_seq(event_seq)\n",
    "            es1 = event_seq.to_array()\n",
    "            cs1 = control_seq.to_compressed_array()\n",
    "            ev = False\n",
    "        else:\n",
    "            #print(\"2nd iter\")\n",
    "            seq.adjust_time(-seq.notes[0].start)\n",
    "            event_seq = es.from_note_seq(seq)\n",
    "            control_seq = cs.from_event_seq(event_seq)\n",
    "            es2 = event_seq.to_array()\n",
    "            cs2 = control_seq.to_compressed_array()\n",
    "            break\n",
    "\n",
    "    return es1, es2, cs1, cs2"
   ]
  },
  {
   "cell_type": "code",
   "execution_count": 5,
   "metadata": {},
   "outputs": [],
   "source": [
    "midi_path = './Naruto_Shippuden_-_Silhouette.mid'"
   ]
  },
  {
   "cell_type": "code",
   "execution_count": null,
   "metadata": {},
   "outputs": [],
   "source": [
    "def from_midi_file(path):\n",
    "        midi = PrettyMIDI(path)\n",
    "        track_len = len(midi.instruments)\n",
    "\n",
    "        if(track_len < 3):\n",
    "            stream1 = NoteSeq.from_tracks(midi,[0])\n",
    "            stream2 = NoteSeq.from_tracks(midi,[1])\n",
    "            #print(\" 2 tracce : \" + path)\n",
    "        elif(track_len < 4):\n",
    "            stream1 = NoteSeq.from_tracks(midi,[0])\n",
    "            stream2 = NoteSeq.from_tracks(midi,[1,2])\n",
    "            #print(\" 3 tracce : \" + path)\n",
    "        else:\n",
    "            stream1 = NoteSeq.from_tracks(midi,[0,1])\n",
    "            stream2 = NoteSeq.from_tracks(midi,[2,3])\n",
    "            #print(\" 4 tracce : \" + path)\n",
    "\n",
    "        return stream1,stream2"
   ]
  }
 ],
 "metadata": {
  "kernelspec": {
   "display_name": "Tesi-XJQxD342",
   "language": "python",
   "name": "python3"
  },
  "language_info": {
   "codemirror_mode": {
    "name": "ipython",
    "version": 3
   },
   "file_extension": ".py",
   "mimetype": "text/x-python",
   "name": "python",
   "nbconvert_exporter": "python",
   "pygments_lexer": "ipython3",
   "version": "3.9.19"
  }
 },
 "nbformat": 4,
 "nbformat_minor": 2
}
