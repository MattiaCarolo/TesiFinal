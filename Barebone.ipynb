{
 "cells": [
  {
   "cell_type": "code",
   "execution_count": 13,
   "metadata": {},
   "outputs": [],
   "source": [
    "#Importing Libraries\n",
    "import numpy as np \n",
    "import pandas as pd \n",
    "import torch\n",
    "from collections import Counter\n",
    "import random\n",
    "import IPython\n",
    "from IPython.display import Image, Audio\n",
    "import music21\n",
    "from music21 import *\n",
    "import matplotlib.pyplot as plt \n",
    "from sklearn.model_selection import train_test_split\n",
    "\n",
    "import seaborn as sns\n",
    "import matplotlib.pyplot as plt\n",
    "import matplotlib.patches as mpatches\n",
    "%matplotlib inline\n",
    "\n",
    "import os\n",
    "import sys\n",
    "\n",
    "import warnings\n",
    "warnings.filterwarnings(\"ignore\")\n",
    "warnings.simplefilter(\"ignore\")\n",
    "np.random.seed(420)"
   ]
  },
  {
   "cell_type": "code",
   "execution_count": 14,
   "metadata": {},
   "outputs": [],
   "source": [
    "#us = environment.UserSettings()\n",
    "#us.create()"
   ]
  },
  {
   "cell_type": "code",
   "execution_count": 15,
   "metadata": {},
   "outputs": [
    {
     "name": "stdout",
     "output_type": "stream",
     "text": [
      "/opt/homebrew/bin/lilypond\n"
     ]
    }
   ],
   "source": [
    "us['lilypondPath'] = '/opt/homebrew/bin/lilypond'\n",
    "print (us['lilypondPath'])"
   ]
  },
  {
   "cell_type": "code",
   "execution_count": 16,
   "metadata": {},
   "outputs": [],
   "source": [
    "filepath = \"./Dataset/\"\n",
    "#Getting midi files\n",
    "all_midis= []\n",
    "for i in os.listdir(filepath):\n",
    "    if i.endswith(\".mid\"):\n",
    "        tr = filepath+i\n",
    "        midi = converter.parse(tr)\n",
    "        all_midis.append(midi)"
   ]
  },
  {
   "cell_type": "code",
   "execution_count": 17,
   "metadata": {},
   "outputs": [
    {
     "name": "stdout",
     "output_type": "stream",
     "text": [
      "Total notes in all the Chopin midis in the dataset: 10956\n"
     ]
    }
   ],
   "source": [
    "#Helping function        \n",
    "def extract_notes(file):\n",
    "    notes = []\n",
    "    pick = None\n",
    "    for j in file:\n",
    "        songs = instrument.partitionByInstrument(j)\n",
    "        for part in songs.parts:\n",
    "            pick = part.recurse()\n",
    "            for element in pick:\n",
    "                if isinstance(element, note.Note):\n",
    "                    notes.append(str(element.pitch))\n",
    "                elif isinstance(element, chord.Chord):\n",
    "                    notes.append(\".\".join(str(n) for n in element.normalOrder))\n",
    "\n",
    "    return notes\n",
    "#Getting the list of notes as Corpus\n",
    "Corpus= extract_notes(all_midis)\n",
    "print(\"Total notes in all the Chopin midis in the dataset:\", len(Corpus))"
   ]
  },
  {
   "cell_type": "code",
   "execution_count": 18,
   "metadata": {},
   "outputs": [
    {
     "name": "stdout",
     "output_type": "stream",
     "text": [
      "First fifty values in the Corpus: ['2.6.9', '2.6.9', '9', '9', '6.7', '6.7', '6.7', '6.7', '6.7', '6.7', '6.7', '6.7', '6.7', '6.7', '6.7', '6.7', '4', '4', '2', '2', '9', '9', '9.11.1', '9.11.1', '2', '2', '9', '9', '2', '2', '4', '4', '9', '9', '4', '4', '6', '6', '2', '2', '6', '6', '9', '9', '2.6', 'D2', 'D3', '2.6', 'D3', 'D3']\n"
     ]
    }
   ],
   "source": [
    "print(\"First fifty values in the Corpus:\", Corpus[:50])"
   ]
  },
  {
   "cell_type": "code",
   "execution_count": 12,
   "metadata": {},
   "outputs": [
    {
     "name": "stderr",
     "output_type": "stream",
     "text": [
      "Changing working directory to: `/var/folders/57/525_56l96t58pmpzl69nmjgm0000gn/T/music21'\n",
      "Processing `/var/folders/57/525_56l96t58pmpzl69nmjgm0000gn/T/music21/tmpu5afk9wz.ly'\n",
      "Parsing...\n",
      "/var/folders/57/525_56l96t58pmpzl69nmjgm0000gn/T/music21/tmpu5afk9wz.ly:173:5: error: unknown escaped string: `\\RemoveEmptyStaffContext'\n",
      "    \n",
      "    \\RemoveEmptyStaffContext\n",
      "/var/folders/57/525_56l96t58pmpzl69nmjgm0000gn/T/music21/tmpu5afk9wz.ly:174:5: error: syntax error, unexpected \\override, expecting '='\n",
      "    \n",
      "    \\override VerticalAxisGroup #'remove-first = ##t\n",
      "/var/folders/57/525_56l96t58pmpzl69nmjgm0000gn/T/music21/tmpu5afk9wz.ly:174:33: warning: deprecated: missing `.' in property path VerticalAxisGroup.remove-first\n",
      "    \\override VerticalAxisGroup \n",
      "                                #'remove-first = ##t\n",
      "/var/folders/57/525_56l96t58pmpzl69nmjgm0000gn/T/music21/tmpu5afk9wz.ly:176:2: error: syntax error, unexpected '}'\n",
      " \n",
      " }\n",
      "/var/folders/57/525_56l96t58pmpzl69nmjgm0000gn/T/music21/tmpu5afk9wz.ly:176:3: error: Unfinished main input\n",
      " }\n",
      "  \n",
      "Interpreting music...[8][16][24][32]\n",
      "Preprocessing graphical objects...\n",
      "Calculating line breaks... \n",
      "Drawing systems... \n",
      "Converting to PNG...\n",
      "fatal error: failed files: \"/var/folders/57/525_56l96t58pmpzl69nmjgm0000gn/T/music21/tmpu5afk9wz.ly\"\n"
     ]
    },
    {
     "ename": "LilyTranslateException",
     "evalue": "cannot find tmpu5afk9wz.ly.png or the full path /var/folders/57/525_56l96t58pmpzl69nmjgm0000gn/T/music21/tmpu5afk9wz.ly.png original file was /var/folders/57/525_56l96t58pmpzl69nmjgm0000gn/T/music21/tmpu5afk9wz.ly",
     "output_type": "error",
     "traceback": [
      "\u001b[0;31m---------------------------------------------------------------------------\u001b[0m",
      "\u001b[0;31mLilyTranslateException\u001b[0m                    Traceback (most recent call last)",
      "Cell \u001b[0;32mIn[12], line 31\u001b[0m\n\u001b[1;32m     28\u001b[0m     \u001b[38;5;28;01mreturn\u001b[39;00m Melody_midi\n\u001b[1;32m     30\u001b[0m Melody_Snippet \u001b[38;5;241m=\u001b[39m chords_n_notes(Corpus[:\u001b[38;5;241m100\u001b[39m])\n\u001b[0;32m---> 31\u001b[0m \u001b[43mshow\u001b[49m\u001b[43m(\u001b[49m\u001b[43mMelody_Snippet\u001b[49m\u001b[43m)\u001b[49m\n",
      "Cell \u001b[0;32mIn[12], line 3\u001b[0m, in \u001b[0;36mshow\u001b[0;34m(music)\u001b[0m\n\u001b[1;32m      2\u001b[0m \u001b[38;5;28;01mdef\u001b[39;00m \u001b[38;5;21mshow\u001b[39m(music):\n\u001b[0;32m----> 3\u001b[0m     display(Image(\u001b[38;5;28mstr\u001b[39m(\u001b[43mmusic\u001b[49m\u001b[38;5;241;43m.\u001b[39;49m\u001b[43mwrite\u001b[49m\u001b[43m(\u001b[49m\u001b[38;5;124;43m\"\u001b[39;49m\u001b[38;5;124;43mlily.png\u001b[39;49m\u001b[38;5;124;43m\"\u001b[39;49m\u001b[43m)\u001b[49m)))\n",
      "File \u001b[0;32m~/Documents/GitHub/TesiMusica/.venv/lib/python3.12/site-packages/music21/stream/base.py:406\u001b[0m, in \u001b[0;36mStream.write\u001b[0;34m(self, fmt, fp, **keywords)\u001b[0m\n\u001b[1;32m    404\u001b[0m \u001b[38;5;28;01mif\u001b[39;00m \u001b[38;5;28mself\u001b[39m\u001b[38;5;241m.\u001b[39misSorted \u001b[38;5;129;01mis\u001b[39;00m \u001b[38;5;28;01mFalse\u001b[39;00m \u001b[38;5;129;01mand\u001b[39;00m \u001b[38;5;28mself\u001b[39m\u001b[38;5;241m.\u001b[39mautoSort:  \u001b[38;5;66;03m# pragma: no cover\u001b[39;00m\n\u001b[1;32m    405\u001b[0m     \u001b[38;5;28mself\u001b[39m\u001b[38;5;241m.\u001b[39msort()\n\u001b[0;32m--> 406\u001b[0m \u001b[38;5;28;01mreturn\u001b[39;00m \u001b[38;5;28;43msuper\u001b[39;49m\u001b[43m(\u001b[49m\u001b[43m)\u001b[49m\u001b[38;5;241;43m.\u001b[39;49m\u001b[43mwrite\u001b[49m\u001b[43m(\u001b[49m\u001b[43mfmt\u001b[49m\u001b[38;5;241;43m=\u001b[39;49m\u001b[43mfmt\u001b[49m\u001b[43m,\u001b[49m\u001b[43m \u001b[49m\u001b[43mfp\u001b[49m\u001b[38;5;241;43m=\u001b[39;49m\u001b[43mfp\u001b[49m\u001b[43m,\u001b[49m\u001b[43m \u001b[49m\u001b[38;5;241;43m*\u001b[39;49m\u001b[38;5;241;43m*\u001b[39;49m\u001b[43mkeywords\u001b[49m\u001b[43m)\u001b[49m\n",
      "File \u001b[0;32m~/Documents/GitHub/TesiMusica/.venv/lib/python3.12/site-packages/music21/base.py:2886\u001b[0m, in \u001b[0;36mMusic21Object.write\u001b[0;34m(self, fmt, fp, **keywords)\u001b[0m\n\u001b[1;32m   2884\u001b[0m     \u001b[38;5;28;01mraise\u001b[39;00m Music21ObjectException(\u001b[38;5;124mf\u001b[39m\u001b[38;5;124m'\u001b[39m\u001b[38;5;124mcannot support output in this format yet: \u001b[39m\u001b[38;5;132;01m{\u001b[39;00mfmt\u001b[38;5;132;01m}\u001b[39;00m\u001b[38;5;124m'\u001b[39m)\n\u001b[1;32m   2885\u001b[0m formatWriter \u001b[38;5;241m=\u001b[39m scClass()\n\u001b[0;32m-> 2886\u001b[0m \u001b[38;5;28;01mreturn\u001b[39;00m \u001b[43mformatWriter\u001b[49m\u001b[38;5;241;43m.\u001b[39;49m\u001b[43mwrite\u001b[49m\u001b[43m(\u001b[49m\u001b[38;5;28;43mself\u001b[39;49m\u001b[43m,\u001b[49m\n\u001b[1;32m   2887\u001b[0m \u001b[43m                          \u001b[49m\u001b[43mfmt\u001b[49m\u001b[38;5;241;43m=\u001b[39;49m\u001b[43mregularizedConverterFormat\u001b[49m\u001b[43m,\u001b[49m\n\u001b[1;32m   2888\u001b[0m \u001b[43m                          \u001b[49m\u001b[43mfp\u001b[49m\u001b[38;5;241;43m=\u001b[39;49m\u001b[43mfp\u001b[49m\u001b[43m,\u001b[49m\n\u001b[1;32m   2889\u001b[0m \u001b[43m                          \u001b[49m\u001b[43msubformats\u001b[49m\u001b[38;5;241;43m=\u001b[39;49m\u001b[43msubformats\u001b[49m\u001b[43m,\u001b[49m\n\u001b[1;32m   2890\u001b[0m \u001b[43m                          \u001b[49m\u001b[38;5;241;43m*\u001b[39;49m\u001b[38;5;241;43m*\u001b[39;49m\u001b[43mkeywords\u001b[49m\u001b[43m)\u001b[49m\n",
      "File \u001b[0;32m~/Documents/GitHub/TesiMusica/.venv/lib/python3.12/site-packages/music21/converter/subConverters.py:432\u001b[0m, in \u001b[0;36mConverterLilypond.write\u001b[0;34m(self, obj, fmt, fp, subformats, coloredVariants, **keywords)\u001b[0m\n\u001b[1;32m    430\u001b[0m     convertedFilePath \u001b[38;5;241m=\u001b[39m conv\u001b[38;5;241m.\u001b[39mcreatePDF(fp)\n\u001b[1;32m    431\u001b[0m \u001b[38;5;28;01melif\u001b[39;00m \u001b[38;5;124m'\u001b[39m\u001b[38;5;124mpng\u001b[39m\u001b[38;5;124m'\u001b[39m \u001b[38;5;129;01min\u001b[39;00m subformats:\n\u001b[0;32m--> 432\u001b[0m     convertedFilePath \u001b[38;5;241m=\u001b[39m \u001b[43mconv\u001b[49m\u001b[38;5;241;43m.\u001b[39;49m\u001b[43mcreatePNG\u001b[49m\u001b[43m(\u001b[49m\u001b[43mfp\u001b[49m\u001b[43m)\u001b[49m\n\u001b[1;32m    433\u001b[0m \u001b[38;5;28;01melif\u001b[39;00m \u001b[38;5;124m'\u001b[39m\u001b[38;5;124msvg\u001b[39m\u001b[38;5;124m'\u001b[39m \u001b[38;5;129;01min\u001b[39;00m subformats:\n\u001b[1;32m    434\u001b[0m     convertedFilePath \u001b[38;5;241m=\u001b[39m conv\u001b[38;5;241m.\u001b[39mcreateSVG(fp)\n",
      "File \u001b[0;32m~/Documents/GitHub/TesiMusica/.venv/lib/python3.12/site-packages/music21/lily/translate.py:2511\u001b[0m, in \u001b[0;36mLilypondConverter.createPNG\u001b[0;34m(self, fileName)\u001b[0m\n\u001b[1;32m   2503\u001b[0m \u001b[38;5;28;01mdef\u001b[39;00m \u001b[38;5;21mcreatePNG\u001b[39m(\u001b[38;5;28mself\u001b[39m, fileName\u001b[38;5;241m=\u001b[39m\u001b[38;5;28;01mNone\u001b[39;00m):\n\u001b[1;32m   2504\u001b[0m \u001b[38;5;250m    \u001b[39m\u001b[38;5;124mr\u001b[39m\u001b[38;5;124;03m'''\u001b[39;00m\n\u001b[1;32m   2505\u001b[0m \u001b[38;5;124;03m    create a PNG file from self.topLevelObject and return the filepath of the file.\u001b[39;00m\n\u001b[1;32m   2506\u001b[0m \n\u001b[0;32m   (...)\u001b[0m\n\u001b[1;32m   2509\u001b[0m \u001b[38;5;124;03m    if PIL is installed then a small white border is created around the score\u001b[39;00m\n\u001b[1;32m   2510\u001b[0m \u001b[38;5;124;03m    '''\u001b[39;00m\n\u001b[0;32m-> 2511\u001b[0m     lilyFile \u001b[38;5;241m=\u001b[39m \u001b[38;5;28;43mself\u001b[39;49m\u001b[38;5;241;43m.\u001b[39;49m\u001b[43mrunThroughLily\u001b[49m\u001b[43m(\u001b[49m\u001b[43mbackend\u001b[49m\u001b[38;5;241;43m=\u001b[39;49m\u001b[38;5;124;43m'\u001b[39;49m\u001b[38;5;124;43meps\u001b[39;49m\u001b[38;5;124;43m'\u001b[39;49m\u001b[43m,\u001b[49m\u001b[43m \u001b[49m\u001b[38;5;28;43mformat\u001b[39;49m\u001b[38;5;241;43m=\u001b[39;49m\u001b[38;5;124;43m'\u001b[39;49m\u001b[38;5;124;43mpng\u001b[39;49m\u001b[38;5;124;43m'\u001b[39;49m\u001b[43m,\u001b[49m\u001b[43m \u001b[49m\u001b[43mfileName\u001b[49m\u001b[38;5;241;43m=\u001b[39;49m\u001b[43mfileName\u001b[49m\u001b[43m)\u001b[49m\n\u001b[1;32m   2512\u001b[0m     \u001b[38;5;28;01mif\u001b[39;00m noPIL \u001b[38;5;129;01mis\u001b[39;00m \u001b[38;5;28;01mFalse\u001b[39;00m:\n\u001b[1;32m   2513\u001b[0m         \u001b[38;5;66;03m# noinspection PyPackageRequirements\u001b[39;00m\n\u001b[1;32m   2514\u001b[0m         \u001b[38;5;28;01mfrom\u001b[39;00m \u001b[38;5;21;01mPIL\u001b[39;00m \u001b[38;5;28;01mimport\u001b[39;00m Image, ImageOps  \u001b[38;5;66;03m# type: ignore\u001b[39;00m\n",
      "File \u001b[0;32m~/Documents/GitHub/TesiMusica/.venv/lib/python3.12/site-packages/music21/lily/translate.py:2467\u001b[0m, in \u001b[0;36mLilypondConverter.runThroughLily\u001b[0;34m(self, format, backend, fileName, skipWriting)\u001b[0m\n\u001b[1;32m   2465\u001b[0m     fileEnd \u001b[38;5;241m=\u001b[39m os\u001b[38;5;241m.\u001b[39mpath\u001b[38;5;241m.\u001b[39mbasename(fileForm)\n\u001b[1;32m   2466\u001b[0m     \u001b[38;5;28;01mif\u001b[39;00m \u001b[38;5;129;01mnot\u001b[39;00m os\u001b[38;5;241m.\u001b[39mpath\u001b[38;5;241m.\u001b[39mexists(fileEnd):\n\u001b[0;32m-> 2467\u001b[0m         \u001b[38;5;28;01mraise\u001b[39;00m LilyTranslateException(\u001b[38;5;124m'\u001b[39m\u001b[38;5;124mcannot find \u001b[39m\u001b[38;5;124m'\u001b[39m \u001b[38;5;241m+\u001b[39m \u001b[38;5;28mstr\u001b[39m(fileEnd)\n\u001b[1;32m   2468\u001b[0m                                      \u001b[38;5;241m+\u001b[39m \u001b[38;5;124m'\u001b[39m\u001b[38;5;124m or the full path \u001b[39m\u001b[38;5;124m'\u001b[39m \u001b[38;5;241m+\u001b[39m \u001b[38;5;28mstr\u001b[39m(fileForm)\n\u001b[1;32m   2469\u001b[0m                                      \u001b[38;5;241m+\u001b[39m \u001b[38;5;124m'\u001b[39m\u001b[38;5;124m original file was \u001b[39m\u001b[38;5;124m'\u001b[39m \u001b[38;5;241m+\u001b[39m \u001b[38;5;28mstr\u001b[39m(fileName))\n\u001b[1;32m   2470\u001b[0m     fileForm \u001b[38;5;241m=\u001b[39m fileEnd\n\u001b[1;32m   2471\u001b[0m \u001b[38;5;28;01mreturn\u001b[39;00m pathlib\u001b[38;5;241m.\u001b[39mPath(fileForm)\n",
      "\u001b[0;31mLilyTranslateException\u001b[0m: cannot find tmpu5afk9wz.ly.png or the full path /var/folders/57/525_56l96t58pmpzl69nmjgm0000gn/T/music21/tmpu5afk9wz.ly.png original file was /var/folders/57/525_56l96t58pmpzl69nmjgm0000gn/T/music21/tmpu5afk9wz.ly"
     ]
    }
   ],
   "source": [
    "#First Lets write some functions that we need to look into the data\n",
    "def show(music):\n",
    "    display(Image(str(music.write(\"lily.png\"))))\n",
    "    \n",
    "def chords_n_notes(Snippet):\n",
    "    Melody = []\n",
    "    offset = 0 #Incremental\n",
    "    for i in Snippet:\n",
    "        #If it is chord\n",
    "        if (\".\" in i or i.isdigit()):\n",
    "            chord_notes = i.split(\".\") #Seperating the notes in chord\n",
    "            notes = [] \n",
    "            for j in chord_notes:\n",
    "                inst_note=int(j)\n",
    "                note_snip = note.Note(inst_note)            \n",
    "                notes.append(note_snip)\n",
    "                chord_snip = chord.Chord(notes)\n",
    "                chord_snip.offset = offset\n",
    "                Melody.append(chord_snip)\n",
    "        # pattern is a note\n",
    "        else: \n",
    "            note_snip = note.Note(i)\n",
    "            note_snip.offset = offset\n",
    "            Melody.append(note_snip)\n",
    "        # increase offset each iteration so that notes do not stack\n",
    "        offset += 1\n",
    "    Melody_midi = stream.Stream(Melody)   \n",
    "    return Melody_midi\n",
    "\n",
    "Melody_Snippet = chords_n_notes(Corpus[:100])\n",
    "show(Melody_Snippet)"
   ]
  }
 ],
 "metadata": {
  "kernelspec": {
   "display_name": ".venv",
   "language": "python",
   "name": "python3"
  },
  "language_info": {
   "codemirror_mode": {
    "name": "ipython",
    "version": 3
   },
   "file_extension": ".py",
   "mimetype": "text/x-python",
   "name": "python",
   "nbconvert_exporter": "python",
   "pygments_lexer": "ipython3",
   "version": "3.12.3"
  }
 },
 "nbformat": 4,
 "nbformat_minor": 2
}
