{
 "cells": [
  {
   "cell_type": "code",
   "execution_count": 1,
   "metadata": {},
   "outputs": [],
   "source": [
    "import os\n",
    "import re\n",
    "import sys\n",
    "import torch\n",
    "import hashlib\n",
    "import itertools\n",
    "import logging\n",
    "import numpy as np\n",
    "\n",
    "logging.basicConfig(level=logging.DEBUG, format='%(asctime)s - %(levelname)s - %(message)s')\n",
    "\n",
    "\n",
    "from progress.bar import Bar\n",
    "from concurrent.futures import ProcessPoolExecutor\n",
    "\n",
    "from Utils.NotesSeq import NoteSeq as ns\n",
    "from Utils.EventSeq import EventSeq as es\n",
    "from Utils.ControlSeq import ControlSeq as cs\n",
    "from Utils import utils\n",
    "\n",
    "import warnings\n",
    "warnings.filterwarnings(\"ignore\")"
   ]
  },
  {
   "cell_type": "code",
   "execution_count": 2,
   "metadata": {},
   "outputs": [],
   "source": [
    "import torch.nn as nn\n",
    "import torch.nn.functional as F\n",
    "from torch.distributions import Categorical, Gumbel\n",
    "from torch import optim\n",
    "\n",
    "from config import device"
   ]
  },
  {
   "cell_type": "code",
   "execution_count": 3,
   "metadata": {},
   "outputs": [],
   "source": [
    "from pretty_midi import PrettyMIDI, Note, Instrument"
   ]
  },
  {
   "cell_type": "markdown",
   "metadata": {},
   "source": [
    "# On details of data"
   ]
  },
  {
   "cell_type": "code",
   "execution_count": 4,
   "metadata": {},
   "outputs": [],
   "source": [
    "def preprocess_midi(path):\n",
    "\n",
    "    note_seq = ns.from_midi_file(path)\n",
    "    iter = itertools.cycle(note_seq)\n",
    "\n",
    "    es1 = list\n",
    "    es2 = list\n",
    "\n",
    "    cs1 = list\n",
    "    cs2 = list\n",
    "    ev = True\n",
    "    #print(\"evaluating\")\n",
    "    for seq in iter:\n",
    "        #print(seq)\n",
    "        if ev:\n",
    "            #print(\"1st iter\")\n",
    "            seq.adjust_time(-seq.notes[0].start)\n",
    "            event_seq = es.from_note_seq(seq)\n",
    "            control_seq = cs.from_event_seq(event_seq)\n",
    "            es1 = event_seq.to_array()\n",
    "            cs1 = control_seq.to_compressed_array()\n",
    "            ev = False\n",
    "        else:\n",
    "            #print(\"2nd iter\")\n",
    "            seq.adjust_time(-seq.notes[0].start)\n",
    "            event_seq = es.from_note_seq(seq)\n",
    "            control_seq = cs.from_event_seq(event_seq)\n",
    "            es2 = event_seq.to_array()\n",
    "            cs2 = control_seq.to_compressed_array()\n",
    "            break\n",
    "\n",
    "    return es1, es2, cs1, cs2"
   ]
  },
  {
   "cell_type": "code",
   "execution_count": 5,
   "metadata": {},
   "outputs": [],
   "source": [
    "midi_path = './Naruto_Shippuden_-_Silhouette.mid'"
   ]
  },
  {
   "cell_type": "code",
   "execution_count": 6,
   "metadata": {},
   "outputs": [],
   "source": [
    "def from_tracks(midi, flag, programs=range(128)):\n",
    "    group_indices = flag # Variable flag permits to manage different tracks\n",
    "    group_notes = itertools.chain(*[\n",
    "        midi.instruments[i].notes for i in group_indices\n",
    "    ])\n",
    "    #print(list(group_notes))\n",
    "    #print(list(group_notes))\n",
    "\n",
    "    temp = list(group_notes)\n",
    "    #print(temp)\n",
    "    #print(70*'-')\n",
    "    for note in temp:\n",
    "        assert isinstance(note, Note)\n",
    "    notes = list(filter(lambda note: note.end >= note.start, temp)) # filtro per essere sicuri che la nota estratta sia qurlla corretta\n",
    "    #notes = notes.sort(key=lambda note: note.start)\n",
    "    #print(notes)\n",
    "\n",
    "    return ns(list(notes))"
   ]
  },
  {
   "cell_type": "code",
   "execution_count": 7,
   "metadata": {},
   "outputs": [],
   "source": [
    "def from_midi_file(path):\n",
    "        midi = PrettyMIDI(path)\n",
    "        track_len = len(midi.instruments)\n",
    "        print(midi.instruments)\n",
    "        if(track_len < 3):\n",
    "            stream1 = from_tracks(midi,[0])\n",
    "            print(stream1.notes)\n",
    "            stream2 = from_tracks(midi,[1])\n",
    "            #print(\" 2 tracce : \" + path)\n",
    "        elif(track_len < 4):\n",
    "            stream1 = from_tracks(midi,[0])\n",
    "            stream2 = from_tracks(midi,[1,2])\n",
    "            #print(\" 3 tracce : \" + path)\n",
    "        else:\n",
    "            stream1 = from_tracks(midi,[0,1])\n",
    "            stream2 = from_tracks(midi,[2,3])\n",
    "            #print(\" 4 tracce : \" + path)\n",
    "\n",
    "        return stream1,stream2"
   ]
  },
  {
   "cell_type": "code",
   "execution_count": 8,
   "metadata": {},
   "outputs": [],
   "source": [
    "midi = PrettyMIDI(midi_path)\n",
    "track_len = len(midi.instruments)"
   ]
  },
  {
   "cell_type": "code",
   "execution_count": 9,
   "metadata": {},
   "outputs": [
    {
     "data": {
      "text/plain": [
       "[Instrument(program=0, is_drum=False, name=\"\"),\n",
       " Instrument(program=0, is_drum=False, name=\"\")]"
      ]
     },
     "execution_count": 9,
     "metadata": {},
     "output_type": "execute_result"
    }
   ],
   "source": [
    "midi.instruments"
   ]
  },
  {
   "cell_type": "code",
   "execution_count": 10,
   "metadata": {},
   "outputs": [
    {
     "name": "stdout",
     "output_type": "stream",
     "text": [
      "[Instrument(program=0, is_drum=False, name=\"\"), Instrument(program=0, is_drum=False, name=\"\")]\n",
      "[Note(start=0.000000, end=0.153379, pitch=59, velocity=112), Note(start=0.162163, end=0.315541, pitch=57, velocity=112), Note(start=0.324325, end=0.477704, pitch=59, velocity=112), Note(start=0.486488, end=0.793921, pitch=62, velocity=112), Note(start=0.810813, end=0.964191, pitch=57, velocity=112), Note(start=0.972975, end=1.126354, pitch=59, velocity=112), Note(start=1.135138, end=1.288516, pitch=57, velocity=112), Note(start=1.297300, end=1.450679, pitch=59, velocity=112), Note(start=1.459463, end=1.766896, pitch=62, velocity=112), Note(start=1.783788, end=1.937166, pitch=57, velocity=112), Note(start=1.945950, end=2.253383, pitch=59, velocity=112), Note(start=2.594600, end=3.056087, pitch=69, velocity=112), Note(start=2.594600, end=3.056087, pitch=74, velocity=112), Note(start=3.081088, end=3.542575, pitch=69, velocity=112), Note(start=3.567575, end=3.875008, pitch=74, velocity=112), Note(start=3.891900, end=4.353387, pitch=71, velocity=112), Note(start=3.891900, end=4.353387, pitch=76, velocity=112), Note(start=4.378388, end=4.839875, pitch=69, velocity=112), Note(start=4.864875, end=5.172308, pitch=76, velocity=112), Note(start=5.189200, end=5.496633, pitch=69, velocity=112), Note(start=5.189200, end=5.496633, pitch=74, velocity=112), Note(start=5.189200, end=5.496633, pitch=78, velocity=112), Note(start=5.513525, end=5.666904, pitch=74, velocity=112), Note(start=5.675688, end=6.137175, pitch=71, velocity=112), Note(start=5.675688, end=6.137175, pitch=79, velocity=112), Note(start=6.162175, end=6.315554, pitch=78, velocity=112), Note(start=6.324338, end=6.477716, pitch=76, velocity=112), Note(start=6.486500, end=6.947987, pitch=71, velocity=112), Note(start=6.486500, end=6.947987, pitch=74, velocity=112), Note(start=6.972988, end=7.280421, pitch=79, velocity=112), Note(start=6.972988, end=7.280421, pitch=91, velocity=112), Note(start=7.297313, end=7.450691, pitch=79, velocity=112), Note(start=7.297313, end=7.450691, pitch=91, velocity=112), Note(start=7.459475, end=7.612854, pitch=78, velocity=112), Note(start=7.459475, end=7.612854, pitch=90, velocity=112), Note(start=7.783800, end=8.245287, pitch=74, velocity=112), Note(start=7.783800, end=8.245287, pitch=78, velocity=112), Note(start=7.783800, end=8.245287, pitch=86, velocity=112), Note(start=8.270288, end=8.577721, pitch=79, velocity=112), Note(start=8.270288, end=8.577721, pitch=91, velocity=112), Note(start=8.594613, end=8.747991, pitch=79, velocity=112), Note(start=8.594613, end=8.747991, pitch=91, velocity=112), Note(start=8.756775, end=8.910154, pitch=78, velocity=112), Note(start=8.756775, end=8.910154, pitch=90, velocity=112), Note(start=9.081100, end=10.312859, pitch=74, velocity=112), Note(start=9.081100, end=10.312859, pitch=78, velocity=112), Note(start=9.081100, end=10.312859, pitch=86, velocity=112), Note(start=10.378400, end=10.839887, pitch=79, velocity=112), Note(start=10.378400, end=10.839887, pitch=83, velocity=112), Note(start=10.378400, end=10.839887, pitch=90, velocity=112), Note(start=10.378400, end=10.839887, pitch=91, velocity=112), Note(start=10.864888, end=11.326375, pitch=78, velocity=112), Note(start=10.864888, end=11.326375, pitch=90, velocity=112), Note(start=11.351375, end=11.581781, pitch=74, velocity=112), Note(start=11.351375, end=11.581781, pitch=86, velocity=112), Note(start=11.675700, end=12.137187, pitch=76, velocity=112), Note(start=11.675700, end=12.137187, pitch=88, velocity=112), Note(start=12.162187, end=12.623675, pitch=78, velocity=112), Note(start=12.162187, end=12.623675, pitch=90, velocity=112), Note(start=12.648675, end=12.956108, pitch=73, velocity=112), Note(start=12.648675, end=12.956108, pitch=85, velocity=112), Note(start=12.973000, end=13.280433, pitch=74, velocity=112), Note(start=12.973000, end=13.280433, pitch=78, velocity=112), Note(start=12.973000, end=13.280433, pitch=81, velocity=112), Note(start=12.973000, end=13.280433, pitch=86, velocity=112), Note(start=13.297325, end=13.604758, pitch=62, velocity=112), Note(start=13.621650, end=13.929083, pitch=64, velocity=112), Note(start=13.945975, end=14.253408, pitch=66, velocity=112), Note(start=14.270300, end=14.731787, pitch=57, velocity=112), Note(start=14.270300, end=14.731787, pitch=62, velocity=112), Note(start=14.756787, end=15.372329, pitch=57, velocity=112), Note(start=15.405438, end=15.558816, pitch=62, velocity=112), Note(start=15.567600, end=15.875033, pitch=57, velocity=112), Note(start=15.567600, end=15.875033, pitch=61, velocity=112), Note(start=15.567600, end=15.875033, pitch=66, velocity=112), Note(start=15.891925, end=16.045304, pitch=64, velocity=112), Note(start=16.054088, end=16.207466, pitch=62, velocity=112), Note(start=16.216250, end=16.523683, pitch=64, velocity=112), Note(start=16.540575, end=16.693954, pitch=57, velocity=112), Note(start=16.540575, end=16.693954, pitch=69, velocity=112), Note(start=16.702738, end=17.164225, pitch=61, velocity=112), Note(start=16.702738, end=17.164225, pitch=69, velocity=112), Note(start=17.189225, end=17.496658, pitch=64, velocity=112), Note(start=17.513550, end=17.820983, pitch=61, velocity=112), Note(start=17.837875, end=18.145308, pitch=64, velocity=112), Note(start=18.162200, end=18.469633, pitch=59, velocity=112), Note(start=18.162200, end=18.469633, pitch=62, velocity=112), Note(start=18.486525, end=18.716931, pitch=57, velocity=112), Note(start=18.729769, end=18.806120, pitch=62, velocity=112), Note(start=18.810850, end=19.118283, pitch=71, velocity=112), Note(start=19.135175, end=19.442608, pitch=69, velocity=112), Note(start=19.459500, end=19.766933, pitch=57, velocity=112), Note(start=19.459500, end=19.766933, pitch=62, velocity=112), Note(start=19.783825, end=20.014231, pitch=57, velocity=112), Note(start=20.027069, end=20.103420, pitch=62, velocity=112), Note(start=20.108150, end=20.415583, pitch=71, velocity=112), Note(start=20.432475, end=20.739908, pitch=69, velocity=112), Note(start=20.756800, end=21.372342, pitch=57, velocity=112), Note(start=20.756800, end=21.372342, pitch=62, velocity=112), Note(start=21.405450, end=22.020992, pitch=57, velocity=112), Note(start=21.405450, end=22.020992, pitch=62, velocity=112), Note(start=22.054100, end=22.361533, pitch=57, velocity=112), Note(start=22.054100, end=22.361533, pitch=61, velocity=112), Note(start=22.378425, end=22.685858, pitch=62, velocity=116), Note(start=22.702750, end=23.010183, pitch=64, velocity=121), Note(start=23.027075, end=23.334508, pitch=62, velocity=126), Note(start=23.027075, end=23.334508, pitch=66, velocity=126), Note(start=23.351400, end=23.658833, pitch=69, velocity=126), Note(start=23.351400, end=23.658833, pitch=74, velocity=126), Note(start=23.351400, end=23.658833, pitch=78, velocity=126), Note(start=23.675725, end=23.829104, pitch=76, velocity=126), Note(start=23.837888, end=23.991266, pitch=74, velocity=126), Note(start=24.000050, end=24.307483, pitch=76, velocity=126), Note(start=24.324375, end=24.631808, pitch=81, velocity=126), Note(start=24.648700, end=24.879106, pitch=69, velocity=126), Note(start=24.648700, end=24.879106, pitch=74, velocity=126), Note(start=25.135188, end=25.596675, pitch=69, velocity=126), Note(start=25.621675, end=25.929108, pitch=74, velocity=126), Note(start=25.946000, end=26.099379, pitch=69, velocity=126), Note(start=25.946000, end=26.099379, pitch=73, velocity=126), Note(start=25.946000, end=26.099379, pitch=78, velocity=126), Note(start=26.270325, end=26.423704, pitch=76, velocity=126), Note(start=26.432488, end=26.585866, pitch=74, velocity=126), Note(start=26.594650, end=26.902083, pitch=76, velocity=126), Note(start=26.918975, end=27.072354, pitch=81, velocity=126), Note(start=27.081138, end=27.234516, pitch=81, velocity=126), Note(start=27.243300, end=27.396679, pitch=69, velocity=126), Note(start=27.243300, end=27.396679, pitch=73, velocity=126), Note(start=27.243300, end=27.396679, pitch=81, velocity=126), Note(start=27.567625, end=27.875058, pitch=76, velocity=126), Note(start=27.891950, end=28.199383, pitch=73, velocity=126), Note(start=28.216275, end=28.523708, pitch=76, velocity=126), Note(start=28.540600, end=28.848033, pitch=74, velocity=126), Note(start=28.540600, end=29.079115, pitch=69, velocity=126), Note(start=29.108169, end=29.184520, pitch=74, velocity=126), Note(start=29.189250, end=29.496683, pitch=83, velocity=126), Note(start=29.513575, end=29.821008, pitch=81, velocity=126), Note(start=29.837900, end=30.145333, pitch=74, velocity=126), Note(start=29.837900, end=30.376415, pitch=69, velocity=126), Note(start=30.405469, end=30.481820, pitch=74, velocity=126), Note(start=30.486550, end=30.793983, pitch=83, velocity=126), Note(start=30.810875, end=31.118308, pitch=81, velocity=126), Note(start=31.135200, end=31.750742, pitch=69, velocity=126), Note(start=31.135200, end=31.750742, pitch=74, velocity=126), Note(start=31.783850, end=32.399392, pitch=69, velocity=126), Note(start=31.783850, end=32.399392, pitch=74, velocity=126), Note(start=32.432500, end=32.739933, pitch=69, velocity=126), Note(start=32.432500, end=32.739933, pitch=73, velocity=126), Note(start=32.756825, end=33.064258, pitch=69, velocity=126), Note(start=32.756825, end=33.064258, pitch=74, velocity=126), Note(start=33.081150, end=33.388583, pitch=69, velocity=126), Note(start=33.081150, end=33.388583, pitch=76, velocity=126), Note(start=33.405475, end=33.712908, pitch=69, velocity=126), Note(start=33.405475, end=33.712908, pitch=74, velocity=126), Note(start=34.054125, end=34.207504, pitch=62, velocity=126), Note(start=34.054125, end=34.207504, pitch=66, velocity=126), Note(start=34.054125, end=34.207504, pitch=74, velocity=126), Note(start=34.216287, end=34.523721, pitch=66, velocity=126), Note(start=34.216287, end=34.523721, pitch=78, velocity=126), Note(start=34.540613, end=35.002100, pitch=66, velocity=126), Note(start=34.540613, end=35.002100, pitch=78, velocity=126), Note(start=35.027100, end=35.334533, pitch=62, velocity=126), Note(start=35.027100, end=35.334533, pitch=66, velocity=126), Note(start=35.027100, end=35.334533, pitch=74, velocity=126), Note(start=35.351425, end=35.504804, pitch=62, velocity=126), Note(start=35.513587, end=35.821021, pitch=66, velocity=126), Note(start=35.513587, end=35.821021, pitch=78, velocity=126), Note(start=35.837913, end=36.299400, pitch=66, velocity=126), Note(start=35.837913, end=36.299400, pitch=78, velocity=126), Note(start=36.324400, end=36.631833, pitch=62, velocity=126), Note(start=36.324400, end=36.631833, pitch=66, velocity=126), Note(start=36.324400, end=36.631833, pitch=74, velocity=126), Note(start=36.648725, end=36.802104, pitch=62, velocity=126), Note(start=36.810887, end=37.118321, pitch=71, velocity=126), Note(start=36.810887, end=37.118321, pitch=83, velocity=126), Note(start=37.135213, end=37.288591, pitch=66, velocity=126), Note(start=37.135213, end=37.288591, pitch=78, velocity=126), Note(start=37.297375, end=37.604808, pitch=64, velocity=126), Note(start=37.297375, end=37.604808, pitch=76, velocity=126), Note(start=37.621700, end=38.237242, pitch=62, velocity=126), Note(start=37.621700, end=38.237242, pitch=68, velocity=126), Note(start=37.621700, end=38.237242, pitch=74, velocity=126), Note(start=38.270350, end=38.577783, pitch=59, velocity=126), Note(start=38.270350, end=38.577783, pitch=71, velocity=126), Note(start=38.594675, end=38.902108, pitch=61, velocity=126), Note(start=38.594675, end=38.902108, pitch=73, velocity=126), Note(start=38.919000, end=39.534542, pitch=62, velocity=126), Note(start=38.919000, end=39.534542, pitch=67, velocity=126), Note(start=38.919000, end=39.534542, pitch=74, velocity=126), Note(start=39.567650, end=40.183192, pitch=62, velocity=126), Note(start=39.567650, end=40.183192, pitch=67, velocity=126), Note(start=39.567650, end=40.183192, pitch=74, velocity=126), Note(start=40.216300, end=40.523733, pitch=61, velocity=126), Note(start=40.216300, end=40.523733, pitch=73, velocity=126), Note(start=40.540625, end=40.848058, pitch=62, velocity=126), Note(start=40.540625, end=40.848058, pitch=74, velocity=126), Note(start=40.864950, end=41.480492, pitch=64, velocity=126), Note(start=40.864950, end=41.480492, pitch=76, velocity=126), Note(start=41.513600, end=42.129142, pitch=64, velocity=126), Note(start=41.513600, end=42.129142, pitch=69, velocity=126), Note(start=41.513600, end=42.129142, pitch=73, velocity=126), Note(start=41.513600, end=42.129142, pitch=76, velocity=126), Note(start=42.162250, end=42.777792, pitch=64, velocity=126), Note(start=42.162250, end=42.777792, pitch=69, velocity=126), Note(start=42.162250, end=42.777792, pitch=73, velocity=126), Note(start=42.162250, end=42.777792, pitch=76, velocity=126), Note(start=42.810900, end=42.863603, pitch=66, velocity=126), Note(start=42.810900, end=42.863603, pitch=69, velocity=126), Note(start=42.810900, end=42.863603, pitch=73, velocity=126), Note(start=42.810900, end=42.863603, pitch=78, velocity=126), Note(start=43.135225, end=43.442658, pitch=64, velocity=126), Note(start=43.135225, end=43.442658, pitch=76, velocity=126), Note(start=43.459550, end=43.766983, pitch=62, velocity=126), Note(start=43.459550, end=43.766983, pitch=74, velocity=126), Note(start=43.783875, end=44.091308, pitch=64, velocity=126), Note(start=43.783875, end=44.091308, pitch=76, velocity=126), Note(start=44.108200, end=44.415633, pitch=62, velocity=126), Note(start=44.108200, end=44.415633, pitch=66, velocity=126), Note(start=44.108200, end=44.415633, pitch=74, velocity=126), Note(start=44.432525, end=44.739958, pitch=57, velocity=126), Note(start=44.432525, end=44.739958, pitch=69, velocity=126), Note(start=44.756850, end=45.064283, pitch=62, velocity=126), Note(start=44.756850, end=45.064283, pitch=66, velocity=126), Note(start=44.756850, end=45.064283, pitch=74, velocity=126), Note(start=45.081175, end=45.388608, pitch=66, velocity=126), Note(start=45.081175, end=45.388608, pitch=78, velocity=126), Note(start=45.405500, end=45.712933, pitch=66, velocity=126), Note(start=45.405500, end=45.712933, pitch=71, velocity=126), Note(start=45.405500, end=45.712933, pitch=74, velocity=126), Note(start=45.405500, end=45.712933, pitch=78, velocity=126), Note(start=45.729825, end=45.810231, pitch=64, velocity=126), Note(start=45.729825, end=45.810231, pitch=76, velocity=126), Note(start=45.891987, end=46.045366, pitch=62, velocity=126), Note(start=45.891987, end=46.045366, pitch=74, velocity=126), Note(start=46.054150, end=46.361583, pitch=64, velocity=126), Note(start=46.054150, end=46.361583, pitch=76, velocity=126), Note(start=46.378475, end=46.685908, pitch=64, velocity=126), Note(start=46.378475, end=46.685908, pitch=69, velocity=126), Note(start=46.702800, end=47.010233, pitch=64, velocity=126), Note(start=46.702800, end=47.010233, pitch=69, velocity=126), Note(start=46.702800, end=47.010233, pitch=73, velocity=126), Note(start=46.702800, end=47.010233, pitch=76, velocity=126), Note(start=47.027125, end=47.350774, pitch=64, velocity=127), Note(start=47.027125, end=47.350774, pitch=69, velocity=127), Note(start=47.351450, end=47.675099, pitch=64, velocity=127), Note(start=47.351450, end=47.675099, pitch=73, velocity=127), Note(start=47.675775, end=47.999424, pitch=64, velocity=127), Note(start=47.675775, end=47.999424, pitch=76, velocity=127), Note(start=48.000100, end=48.307533, pitch=67, velocity=126), Note(start=48.000100, end=48.307533, pitch=71, velocity=126), Note(start=48.000100, end=48.307533, pitch=74, velocity=126), Note(start=48.000100, end=48.307533, pitch=79, velocity=126), Note(start=48.324425, end=48.404831, pitch=66, velocity=126), Note(start=48.324425, end=48.404831, pitch=78, velocity=126), Note(start=48.486587, end=48.639966, pitch=64, velocity=126), Note(start=48.486587, end=48.639966, pitch=76, velocity=126), Note(start=48.648750, end=48.956183, pitch=66, velocity=126), Note(start=48.648750, end=48.956183, pitch=78, velocity=126), Note(start=48.973075, end=49.280508, pitch=64, velocity=126), Note(start=48.973075, end=49.280508, pitch=76, velocity=126), Note(start=49.297400, end=49.604833, pitch=62, velocity=126), Note(start=49.297400, end=49.604833, pitch=66, velocity=126), Note(start=49.297400, end=49.604833, pitch=74, velocity=126), Note(start=49.621725, end=49.929158, pitch=62, velocity=126), Note(start=49.946050, end=50.253483, pitch=71, velocity=126), Note(start=49.946050, end=50.253483, pitch=83, velocity=126), Note(start=50.270375, end=50.577808, pitch=69, velocity=126), Note(start=50.270375, end=50.577808, pitch=81, velocity=126), Note(start=50.594700, end=50.902133, pitch=62, velocity=126), Note(start=50.594700, end=50.902133, pitch=66, velocity=126), Note(start=50.594700, end=50.902133, pitch=74, velocity=126), Note(start=50.919025, end=51.226458, pitch=62, velocity=126), Note(start=51.243350, end=51.550783, pitch=71, velocity=126), Note(start=51.243350, end=51.550783, pitch=83, velocity=126), Note(start=51.567675, end=51.875108, pitch=69, velocity=126), Note(start=51.567675, end=51.875108, pitch=81, velocity=126), Note(start=51.892000, end=52.199433, pitch=62, velocity=126), Note(start=51.892000, end=52.199433, pitch=66, velocity=126), Note(start=51.892000, end=52.199433, pitch=74, velocity=126), Note(start=52.216325, end=52.523758, pitch=62, velocity=126), Note(start=52.540650, end=53.156192, pitch=62, velocity=126), Note(start=52.540650, end=53.156192, pitch=66, velocity=126), Note(start=52.540650, end=53.156192, pitch=74, velocity=126), Note(start=53.189300, end=53.496733, pitch=61, velocity=126), Note(start=53.189300, end=53.496733, pitch=64, velocity=126), Note(start=53.189300, end=53.496733, pitch=69, velocity=126), Note(start=53.189300, end=53.496733, pitch=73, velocity=126), Note(start=53.513625, end=53.821058, pitch=62, velocity=126), Note(start=53.513625, end=53.821058, pitch=74, velocity=126), Note(start=53.837950, end=54.145383, pitch=64, velocity=126), Note(start=53.837950, end=54.145383, pitch=76, velocity=126), Note(start=54.162275, end=54.469708, pitch=66, velocity=126), Note(start=54.162275, end=54.469708, pitch=78, velocity=126), Note(start=54.486600, end=54.794033, pitch=62, velocity=126), Note(start=54.486600, end=54.794033, pitch=66, velocity=126), Note(start=54.486600, end=54.794033, pitch=74, velocity=126), Note(start=54.810925, end=55.118358, pitch=57, velocity=126), Note(start=54.810925, end=55.118358, pitch=69, velocity=126), Note(start=55.135250, end=55.442683, pitch=62, velocity=126), Note(start=55.135250, end=55.442683, pitch=66, velocity=126), Note(start=55.135250, end=55.442683, pitch=74, velocity=126), Note(start=55.459575, end=55.767008, pitch=66, velocity=126), Note(start=55.459575, end=55.767008, pitch=78, velocity=126), Note(start=55.783900, end=56.091333, pitch=66, velocity=126), Note(start=55.783900, end=56.091333, pitch=71, velocity=126), Note(start=55.783900, end=56.091333, pitch=74, velocity=126), Note(start=55.783900, end=56.091333, pitch=78, velocity=126), Note(start=56.108225, end=56.188631, pitch=64, velocity=126), Note(start=56.108225, end=56.188631, pitch=76, velocity=126), Note(start=56.270388, end=56.423766, pitch=62, velocity=126), Note(start=56.270388, end=56.423766, pitch=74, velocity=126), Note(start=56.432550, end=56.739983, pitch=64, velocity=126), Note(start=56.432550, end=56.739983, pitch=76, velocity=126), Note(start=56.756875, end=57.064308, pitch=64, velocity=126), Note(start=56.756875, end=57.064308, pitch=69, velocity=126), Note(start=57.081200, end=57.388633, pitch=64, velocity=126), Note(start=57.081200, end=57.388633, pitch=69, velocity=126), Note(start=57.081200, end=57.388633, pitch=73, velocity=126), Note(start=57.081200, end=57.388633, pitch=76, velocity=126), Note(start=57.405525, end=57.729174, pitch=64, velocity=127), Note(start=57.405525, end=57.729174, pitch=69, velocity=127), Note(start=57.729850, end=58.053499, pitch=64, velocity=127), Note(start=57.729850, end=58.053499, pitch=73, velocity=127), Note(start=58.054175, end=58.377824, pitch=64, velocity=127), Note(start=58.054175, end=58.377824, pitch=76, velocity=127), Note(start=58.378500, end=58.685933, pitch=67, velocity=126), Note(start=58.378500, end=58.685933, pitch=71, velocity=126), Note(start=58.378500, end=58.685933, pitch=74, velocity=126), Note(start=58.378500, end=58.685933, pitch=79, velocity=126), Note(start=58.702825, end=58.783231, pitch=66, velocity=126), Note(start=58.702825, end=58.783231, pitch=78, velocity=126), Note(start=58.864988, end=59.018366, pitch=64, velocity=126), Note(start=58.864988, end=59.018366, pitch=76, velocity=126), Note(start=59.027150, end=59.334583, pitch=66, velocity=126), Note(start=59.027150, end=59.334583, pitch=78, velocity=126), Note(start=59.351475, end=59.658908, pitch=64, velocity=126), Note(start=59.351475, end=59.658908, pitch=76, velocity=126), Note(start=59.675800, end=59.983233, pitch=62, velocity=126), Note(start=59.675800, end=59.983233, pitch=66, velocity=126), Note(start=59.675800, end=59.983233, pitch=74, velocity=126), Note(start=60.000125, end=60.307558, pitch=62, velocity=126), Note(start=60.324450, end=60.631883, pitch=71, velocity=126), Note(start=60.324450, end=60.631883, pitch=83, velocity=126), Note(start=60.648775, end=60.956208, pitch=69, velocity=126), Note(start=60.648775, end=60.956208, pitch=81, velocity=126), Note(start=60.973100, end=61.280533, pitch=62, velocity=126), Note(start=60.973100, end=61.280533, pitch=66, velocity=126), Note(start=60.973100, end=61.280533, pitch=74, velocity=126), Note(start=61.297425, end=61.604858, pitch=62, velocity=126), Note(start=61.621750, end=61.929183, pitch=71, velocity=126), Note(start=61.621750, end=61.929183, pitch=83, velocity=126), Note(start=61.946075, end=62.253508, pitch=69, velocity=126), Note(start=61.946075, end=62.253508, pitch=81, velocity=126), Note(start=62.270400, end=62.577833, pitch=62, velocity=126), Note(start=62.270400, end=62.577833, pitch=66, velocity=126), Note(start=62.270400, end=62.577833, pitch=74, velocity=126), Note(start=62.594725, end=62.902158, pitch=62, velocity=126), Note(start=62.919050, end=63.534592, pitch=62, velocity=126), Note(start=62.919050, end=63.534592, pitch=66, velocity=126), Note(start=62.919050, end=63.534592, pitch=74, velocity=126), Note(start=63.567700, end=63.875133, pitch=61, velocity=126), Note(start=63.567700, end=63.875133, pitch=64, velocity=126), Note(start=63.567700, end=63.875133, pitch=69, velocity=126), Note(start=63.567700, end=63.875133, pitch=73, velocity=126), Note(start=63.892025, end=64.199458, pitch=69, velocity=126), Note(start=63.892025, end=64.199458, pitch=81, velocity=126), Note(start=64.216350, end=64.523783, pitch=64, velocity=126), Note(start=64.216350, end=64.523783, pitch=76, velocity=126), Note(start=64.540675, end=64.848108, pitch=66, velocity=126), Note(start=64.540675, end=64.848108, pitch=78, velocity=126), Note(start=64.865000, end=65.172433, pitch=74, velocity=126), Note(start=64.865000, end=65.172433, pitch=78, velocity=126), Note(start=64.865000, end=65.172433, pitch=86, velocity=126), Note(start=65.189325, end=65.496758, pitch=69, velocity=126), Note(start=65.189325, end=65.496758, pitch=81, velocity=126), Note(start=65.513650, end=65.821083, pitch=74, velocity=126), Note(start=65.513650, end=65.821083, pitch=78, velocity=126), Note(start=65.513650, end=65.821083, pitch=86, velocity=126), Note(start=65.837975, end=66.145408, pitch=78, velocity=126), Note(start=65.837975, end=66.145408, pitch=90, velocity=126), Note(start=66.162300, end=66.469733, pitch=78, velocity=126), Note(start=66.162300, end=66.469733, pitch=83, velocity=126), Note(start=66.162300, end=66.469733, pitch=86, velocity=126), Note(start=66.162300, end=66.469733, pitch=90, velocity=126), Note(start=66.486625, end=66.640004, pitch=76, velocity=126), Note(start=66.486625, end=66.640004, pitch=88, velocity=126), Note(start=66.648787, end=66.802166, pitch=74, velocity=126), Note(start=66.648787, end=66.802166, pitch=86, velocity=126), Note(start=66.810950, end=67.118383, pitch=76, velocity=126), Note(start=66.810950, end=67.118383, pitch=88, velocity=126), Note(start=67.135275, end=67.442708, pitch=76, velocity=126), Note(start=67.135275, end=67.442708, pitch=81, velocity=126), Note(start=67.459600, end=67.767033, pitch=76, velocity=126), Note(start=67.459600, end=67.767033, pitch=81, velocity=126), Note(start=67.459600, end=67.767033, pitch=85, velocity=126), Note(start=67.459600, end=67.767033, pitch=88, velocity=126), Note(start=67.783925, end=68.091358, pitch=76, velocity=126), Note(start=67.783925, end=68.091358, pitch=81, velocity=126), Note(start=68.108250, end=68.415683, pitch=76, velocity=126), Note(start=68.108250, end=68.415683, pitch=85, velocity=126), Note(start=68.432575, end=68.740008, pitch=76, velocity=126), Note(start=68.432575, end=68.740008, pitch=88, velocity=126), Note(start=68.756900, end=69.064333, pitch=79, velocity=126), Note(start=68.756900, end=69.064333, pitch=83, velocity=126), Note(start=68.756900, end=69.064333, pitch=86, velocity=126), Note(start=68.756900, end=69.064333, pitch=91, velocity=126), Note(start=69.081225, end=69.388658, pitch=81, velocity=126), Note(start=69.081225, end=69.388658, pitch=93, velocity=126), Note(start=69.405550, end=69.712983, pitch=78, velocity=126), Note(start=69.405550, end=69.712983, pitch=90, velocity=126), Note(start=69.729875, end=70.037308, pitch=76, velocity=126), Note(start=69.729875, end=70.037308, pitch=88, velocity=126), Note(start=70.054200, end=70.361633, pitch=74, velocity=126), Note(start=70.054200, end=70.361633, pitch=78, velocity=126), Note(start=70.054200, end=70.361633, pitch=86, velocity=126), Note(start=70.378525, end=70.685958, pitch=78, velocity=126), Note(start=70.702850, end=71.010283, pitch=83, velocity=126), Note(start=70.702850, end=71.010283, pitch=95, velocity=126), Note(start=71.027175, end=71.334608, pitch=81, velocity=126), Note(start=71.027175, end=71.334608, pitch=93, velocity=126), Note(start=71.351500, end=71.658933, pitch=74, velocity=126), Note(start=71.351500, end=71.658933, pitch=78, velocity=126), Note(start=71.351500, end=71.658933, pitch=86, velocity=126), Note(start=71.675825, end=71.983258, pitch=78, velocity=126), Note(start=72.000150, end=72.307583, pitch=83, velocity=126), Note(start=72.000150, end=72.307583, pitch=95, velocity=126), Note(start=72.324475, end=72.631908, pitch=81, velocity=126), Note(start=72.324475, end=72.631908, pitch=93, velocity=126), Note(start=72.648800, end=72.956233, pitch=74, velocity=126), Note(start=72.648800, end=72.956233, pitch=79, velocity=126), Note(start=72.648800, end=72.956233, pitch=86, velocity=126), Note(start=72.973125, end=73.280558, pitch=74, velocity=126), Note(start=72.973125, end=73.280558, pitch=78, velocity=126), Note(start=73.297450, end=73.912992, pitch=74, velocity=126), Note(start=73.297450, end=73.912992, pitch=86, velocity=126), Note(start=73.946100, end=74.253533, pitch=73, velocity=126), Note(start=73.946100, end=74.253533, pitch=76, velocity=126), Note(start=73.946100, end=74.253533, pitch=81, velocity=126), Note(start=73.946100, end=74.253533, pitch=85, velocity=126), Note(start=74.270425, end=74.577858, pitch=74, velocity=126), Note(start=74.270425, end=74.577858, pitch=86, velocity=126), Note(start=74.594750, end=74.902183, pitch=76, velocity=126), Note(start=74.594750, end=74.902183, pitch=88, velocity=126), Note(start=74.919075, end=75.226508, pitch=74, velocity=126), Note(start=74.919075, end=75.226508, pitch=86, velocity=126), Note(start=75.243400, end=75.550833, pitch=74, velocity=126), Note(start=75.243400, end=75.550833, pitch=78, velocity=126), Note(start=75.243400, end=75.550833, pitch=86, velocity=126), Note(start=75.567725, end=75.721104, pitch=81, velocity=126), Note(start=75.567725, end=75.721104, pitch=93, velocity=126), Note(start=75.729888, end=76.037321, pitch=78, velocity=126), Note(start=75.729888, end=76.037321, pitch=90, velocity=126), Note(start=76.054213, end=76.515700, pitch=76, velocity=126), Note(start=76.054213, end=76.515700, pitch=88, velocity=126), Note(start=76.540700, end=76.848133, pitch=76, velocity=126), Note(start=76.540700, end=76.848133, pitch=82, velocity=126), Note(start=76.540700, end=76.848133, pitch=88, velocity=126), Note(start=76.865025, end=77.018404, pitch=81, velocity=126), Note(start=76.865025, end=77.018404, pitch=93, velocity=126), Note(start=77.027187, end=77.334621, pitch=78, velocity=126), Note(start=77.027187, end=77.334621, pitch=90, velocity=126), Note(start=77.351512, end=77.813000, pitch=76, velocity=126), Note(start=77.351512, end=77.813000, pitch=88, velocity=126), Note(start=77.838000, end=78.145433, pitch=76, velocity=126), Note(start=77.838000, end=78.145433, pitch=83, velocity=126), Note(start=77.838000, end=78.145433, pitch=88, velocity=126), Note(start=78.162325, end=78.315704, pitch=83, velocity=126), Note(start=78.162325, end=78.315704, pitch=95, velocity=126), Note(start=78.324488, end=78.631921, pitch=78, velocity=126), Note(start=78.324488, end=78.631921, pitch=90, velocity=126), Note(start=78.648813, end=78.956246, pitch=76, velocity=126), Note(start=78.648813, end=78.956246, pitch=88, velocity=126), Note(start=78.973138, end=79.126516, pitch=74, velocity=126), Note(start=78.973138, end=79.126516, pitch=86, velocity=126), Note(start=79.135300, end=79.442733, pitch=74, velocity=126), Note(start=79.135300, end=79.442733, pitch=78, velocity=126), Note(start=79.135300, end=79.442733, pitch=81, velocity=126), Note(start=79.135300, end=79.442733, pitch=86, velocity=126), Note(start=79.459625, end=79.767058, pitch=74, velocity=126), Note(start=79.459625, end=79.767058, pitch=78, velocity=126), Note(start=79.783950, end=80.091383, pitch=71, velocity=126), Note(start=79.783950, end=80.091383, pitch=83, velocity=126), Note(start=80.108275, end=80.415708, pitch=73, velocity=126), Note(start=80.108275, end=80.415708, pitch=85, velocity=126), Note(start=80.432600, end=81.048142, pitch=74, velocity=126), Note(start=80.432600, end=81.048142, pitch=79, velocity=126), Note(start=80.432600, end=81.048142, pitch=86, velocity=126), Note(start=81.081250, end=81.696792, pitch=74, velocity=126), Note(start=81.081250, end=81.696792, pitch=79, velocity=126), Note(start=81.081250, end=81.696792, pitch=86, velocity=126), Note(start=81.729900, end=82.037333, pitch=78, velocity=126), Note(start=81.729900, end=82.037333, pitch=83, velocity=126), Note(start=81.729900, end=82.037333, pitch=86, velocity=126), Note(start=81.729900, end=82.037333, pitch=90, velocity=126), Note(start=82.054225, end=82.361658, pitch=76, velocity=126), Note(start=82.054225, end=82.361658, pitch=88, velocity=126), Note(start=82.378550, end=82.685983, pitch=74, velocity=126), Note(start=82.378550, end=82.685983, pitch=86, velocity=126), Note(start=82.702875, end=83.010308, pitch=71, velocity=126), Note(start=82.702875, end=83.010308, pitch=83, velocity=126), Note(start=83.027200, end=84.258959, pitch=76, velocity=126), Note(start=83.027200, end=84.258959, pitch=88, velocity=126), Note(start=83.189363, end=83.342741, pitch=69, velocity=126), Note(start=83.351525, end=83.504904, pitch=71, velocity=126), Note(start=83.513688, end=83.821121, pitch=74, velocity=126), Note(start=83.838013, end=83.991391, pitch=69, velocity=126), Note(start=84.000175, end=84.153554, pitch=71, velocity=126), Note(start=84.162338, end=84.315716, pitch=69, velocity=126), Note(start=84.324500, end=84.477879, pitch=71, velocity=126), Note(start=84.486663, end=84.794096, pitch=74, velocity=126), Note(start=84.810988, end=84.964366, pitch=69, velocity=126), Note(start=84.973150, end=85.126529, pitch=71, velocity=126), Note(start=85.135312, end=85.288691, pitch=74, velocity=126), Note(start=85.297475, end=85.450854, pitch=74, velocity=126), Note(start=85.459637, end=85.921125, pitch=76, velocity=126)]\n"
     ]
    }
   ],
   "source": [
    "s1,s2 = from_midi_file(midi_path)"
   ]
  },
  {
   "cell_type": "code",
   "execution_count": 11,
   "metadata": {},
   "outputs": [
    {
     "name": "stdout",
     "output_type": "stream",
     "text": [
      "[Note(start=0.000000, end=0.153379, pitch=35, velocity=96), Note(start=0.000000, end=0.153379, pitch=47, velocity=96), Note(start=0.162163, end=0.315541, pitch=35, velocity=96), Note(start=0.162163, end=0.315541, pitch=47, velocity=96), Note(start=0.324325, end=0.477704, pitch=35, velocity=96), Note(start=0.324325, end=0.477704, pitch=47, velocity=96), Note(start=0.486488, end=0.639866, pitch=33, velocity=96), Note(start=0.486488, end=0.639866, pitch=45, velocity=96), Note(start=0.648650, end=0.802029, pitch=33, velocity=96), Note(start=0.648650, end=0.802029, pitch=45, velocity=96), Note(start=0.810813, end=0.964191, pitch=33, velocity=96), Note(start=0.810813, end=0.964191, pitch=45, velocity=96), Note(start=0.972975, end=1.126354, pitch=33, velocity=96), Note(start=0.972975, end=1.126354, pitch=45, velocity=96), Note(start=1.135138, end=1.288516, pitch=33, velocity=96), Note(start=1.135138, end=1.288516, pitch=45, velocity=96), Note(start=1.297300, end=1.450679, pitch=31, velocity=96), Note(start=1.297300, end=1.450679, pitch=43, velocity=96), Note(start=1.459463, end=1.612841, pitch=31, velocity=96), Note(start=1.459463, end=1.612841, pitch=43, velocity=96), Note(start=1.621625, end=1.775004, pitch=31, velocity=96), Note(start=1.621625, end=1.775004, pitch=43, velocity=96), Note(start=1.783788, end=1.937166, pitch=31, velocity=96), Note(start=1.783788, end=1.937166, pitch=43, velocity=96), Note(start=1.945950, end=2.099329, pitch=33, velocity=96), Note(start=1.945950, end=2.099329, pitch=45, velocity=96), Note(start=2.594600, end=2.747979, pitch=30, velocity=112), Note(start=2.594600, end=2.747979, pitch=42, velocity=112), Note(start=2.756763, end=2.910141, pitch=42, velocity=112), Note(start=2.918925, end=3.072304, pitch=50, velocity=112), Note(start=3.081088, end=3.234466, pitch=54, velocity=112), Note(start=3.243250, end=3.396629, pitch=50, velocity=112), Note(start=3.405413, end=3.558791, pitch=42, velocity=112), Note(start=3.567575, end=3.720954, pitch=54, velocity=112), Note(start=3.729738, end=3.883116, pitch=50, velocity=112), Note(start=3.891900, end=4.045279, pitch=31, velocity=112), Note(start=3.891900, end=4.045279, pitch=43, velocity=112), Note(start=4.054063, end=4.207441, pitch=43, velocity=112), Note(start=4.216225, end=4.369604, pitch=50, velocity=112), Note(start=4.378388, end=4.531766, pitch=55, velocity=112), Note(start=4.540550, end=4.693929, pitch=50, velocity=112), Note(start=4.702713, end=4.856091, pitch=43, velocity=112), Note(start=4.864875, end=5.018254, pitch=55, velocity=112), Note(start=5.027038, end=5.180416, pitch=50, velocity=112), Note(start=5.189200, end=5.342579, pitch=33, velocity=112), Note(start=5.189200, end=5.342579, pitch=45, velocity=112), Note(start=5.351363, end=5.504741, pitch=45, velocity=112), Note(start=5.513525, end=5.666904, pitch=52, velocity=112), Note(start=5.675688, end=5.829066, pitch=61, velocity=112), Note(start=5.837850, end=5.991229, pitch=52, velocity=112), Note(start=6.000013, end=6.153391, pitch=45, velocity=112), Note(start=6.162175, end=6.315554, pitch=57, velocity=112), Note(start=6.324338, end=6.477716, pitch=52, velocity=112), Note(start=6.486500, end=6.639879, pitch=34, velocity=112), Note(start=6.486500, end=6.639879, pitch=46, velocity=112), Note(start=6.648663, end=6.802041, pitch=46, velocity=112), Note(start=6.810825, end=6.964204, pitch=55, velocity=112), Note(start=6.972988, end=7.126366, pitch=58, velocity=112), Note(start=7.135150, end=7.288529, pitch=55, velocity=112), Note(start=7.297313, end=7.450691, pitch=46, velocity=112), Note(start=7.459475, end=7.612854, pitch=58, velocity=112), Note(start=7.621638, end=7.775016, pitch=55, velocity=112), Note(start=7.783800, end=7.937179, pitch=35, velocity=112), Note(start=7.783800, end=7.937179, pitch=47, velocity=112), Note(start=7.945963, end=8.099341, pitch=47, velocity=112), Note(start=8.108125, end=8.261504, pitch=54, velocity=112), Note(start=8.270288, end=8.423666, pitch=59, velocity=112), Note(start=8.432450, end=8.585829, pitch=54, velocity=112), Note(start=8.594613, end=8.747991, pitch=47, velocity=112), Note(start=8.756775, end=8.910154, pitch=59, velocity=112), Note(start=8.918938, end=9.072316, pitch=54, velocity=112), Note(start=9.081100, end=9.234479, pitch=30, velocity=112), Note(start=9.081100, end=9.234479, pitch=42, velocity=112), Note(start=9.243263, end=9.396641, pitch=42, velocity=112), Note(start=9.405425, end=9.558804, pitch=50, velocity=112), Note(start=9.567588, end=9.720966, pitch=54, velocity=112), Note(start=9.729750, end=9.883129, pitch=50, velocity=112), Note(start=9.891913, end=10.045291, pitch=42, velocity=112), Note(start=10.054075, end=10.207454, pitch=54, velocity=112), Note(start=10.216238, end=10.369616, pitch=50, velocity=112), Note(start=10.378400, end=10.531779, pitch=31, velocity=112), Note(start=10.378400, end=10.531779, pitch=43, velocity=112), Note(start=10.540563, end=10.693941, pitch=43, velocity=112), Note(start=10.702725, end=10.856104, pitch=50, velocity=112), Note(start=10.864888, end=11.018266, pitch=59, velocity=112), Note(start=11.027050, end=11.180429, pitch=50, velocity=112), Note(start=11.189213, end=11.342591, pitch=43, velocity=112), Note(start=11.351375, end=11.504754, pitch=55, velocity=112), Note(start=11.513537, end=11.666916, pitch=50, velocity=112), Note(start=11.675700, end=11.829079, pitch=33, velocity=112), Note(start=11.675700, end=11.829079, pitch=45, velocity=112), Note(start=11.837862, end=11.991241, pitch=45, velocity=112), Note(start=12.000025, end=12.153404, pitch=52, velocity=112), Note(start=12.162187, end=12.315566, pitch=61, velocity=112), Note(start=12.324350, end=12.477729, pitch=52, velocity=112), Note(start=12.486512, end=12.639891, pitch=45, velocity=112), Note(start=12.648675, end=12.802054, pitch=57, velocity=112), Note(start=12.810837, end=12.964216, pitch=52, velocity=112), Note(start=12.973000, end=13.126379, pitch=30, velocity=112), Note(start=12.973000, end=13.126379, pitch=42, velocity=112), Note(start=13.135162, end=13.288541, pitch=42, velocity=112), Note(start=13.297325, end=13.450704, pitch=50, velocity=112), Note(start=13.459487, end=13.612866, pitch=54, velocity=112), Note(start=13.621650, end=13.775029, pitch=50, velocity=112), Note(start=13.783812, end=13.937191, pitch=42, velocity=112), Note(start=13.945975, end=14.099354, pitch=54, velocity=112), Note(start=14.108137, end=14.261516, pitch=50, velocity=112), Note(start=14.270300, end=14.577733, pitch=31, velocity=112), Note(start=14.270300, end=14.577733, pitch=43, velocity=112), Note(start=14.594625, end=14.748004, pitch=43, velocity=112), Note(start=14.756787, end=15.064221, pitch=55, velocity=112), Note(start=15.081112, end=15.234491, pitch=43, velocity=112), Note(start=15.243275, end=15.396654, pitch=57, velocity=112), Note(start=15.405438, end=15.558816, pitch=45, velocity=112), Note(start=15.567600, end=15.875033, pitch=33, velocity=112), Note(start=15.567600, end=15.875033, pitch=45, velocity=112), Note(start=15.891925, end=16.045304, pitch=45, velocity=112), Note(start=16.054088, end=16.361521, pitch=57, velocity=112), Note(start=16.378412, end=16.531791, pitch=45, velocity=112), Note(start=16.702738, end=16.856116, pitch=45, velocity=112), Note(start=16.864900, end=17.172333, pitch=34, velocity=112), Note(start=16.864900, end=17.172333, pitch=46, velocity=112), Note(start=17.189225, end=17.342604, pitch=46, velocity=112), Note(start=17.351388, end=17.658821, pitch=58, velocity=112), Note(start=17.675712, end=17.829091, pitch=46, velocity=112), Note(start=17.837875, end=17.991254, pitch=58, velocity=112), Note(start=18.000038, end=18.153416, pitch=46, velocity=112), Note(start=18.162200, end=18.469633, pitch=35, velocity=112), Note(start=18.162200, end=18.469633, pitch=47, velocity=112), Note(start=18.486525, end=18.639904, pitch=47, velocity=112), Note(start=18.648688, end=18.956121, pitch=54, velocity=112), Note(start=18.973012, end=19.126391, pitch=42, velocity=112), Note(start=19.135175, end=19.288554, pitch=54, velocity=112), Note(start=19.297338, end=19.450716, pitch=42, velocity=112), Note(start=19.459500, end=19.766933, pitch=30, velocity=112), Note(start=19.459500, end=19.766933, pitch=42, velocity=112), Note(start=19.783825, end=19.937204, pitch=42, velocity=112), Note(start=19.945988, end=20.253421, pitch=54, velocity=112), Note(start=20.270312, end=20.423691, pitch=42, velocity=112), Note(start=20.432475, end=20.585854, pitch=54, velocity=112), Note(start=20.594638, end=20.748016, pitch=42, velocity=112), Note(start=20.756800, end=21.064233, pitch=31, velocity=112), Note(start=20.756800, end=21.064233, pitch=43, velocity=112), Note(start=21.081125, end=21.234504, pitch=43, velocity=112), Note(start=21.243288, end=21.550721, pitch=55, velocity=112), Note(start=21.567612, end=21.720991, pitch=43, velocity=112), Note(start=21.729775, end=21.883154, pitch=55, velocity=112), Note(start=21.891938, end=22.045316, pitch=43, velocity=112), Note(start=22.054100, end=22.207479, pitch=33, velocity=112), Note(start=22.054100, end=22.207479, pitch=45, velocity=112), Note(start=22.216262, end=22.369641, pitch=40, velocity=114), Note(start=22.378425, end=22.531804, pitch=35, velocity=116), Note(start=22.378425, end=22.531804, pitch=47, velocity=116), Note(start=22.540588, end=22.693966, pitch=42, velocity=119), Note(start=22.702750, end=22.856129, pitch=37, velocity=121), Note(start=22.702750, end=22.856129, pitch=49, velocity=121), Note(start=22.864913, end=23.018291, pitch=45, velocity=123), Note(start=23.027075, end=23.334508, pitch=40, velocity=126), Note(start=23.027075, end=23.334508, pitch=52, velocity=126), Note(start=23.027075, end=23.334508, pitch=57, velocity=126), Note(start=23.351400, end=24.583159, pitch=42, velocity=112), Note(start=23.513563, end=23.666941, pitch=50, velocity=112), Note(start=23.675725, end=23.829104, pitch=52, velocity=112), Note(start=23.837888, end=23.991266, pitch=50, velocity=112), Note(start=24.000050, end=24.153429, pitch=52, velocity=112), Note(start=24.162213, end=24.315591, pitch=57, velocity=112), Note(start=24.324375, end=24.477754, pitch=52, velocity=112), Note(start=24.486538, end=24.639916, pitch=50, velocity=112), Note(start=24.648700, end=24.802079, pitch=52, velocity=112), Note(start=24.648700, end=25.880459, pitch=43, velocity=112), Note(start=24.810863, end=24.964241, pitch=50, velocity=112), Note(start=24.973025, end=25.126404, pitch=52, velocity=112), Note(start=25.135188, end=25.288566, pitch=57, velocity=112), Note(start=25.297350, end=25.450729, pitch=52, velocity=112), Note(start=25.459513, end=25.612891, pitch=50, velocity=112), Note(start=25.621675, end=25.775054, pitch=52, velocity=112), Note(start=25.783838, end=25.937216, pitch=55, velocity=112), Note(start=25.946000, end=26.099379, pitch=54, velocity=112), Note(start=25.946000, end=27.177759, pitch=45, velocity=112), Note(start=26.108163, end=26.261541, pitch=50, velocity=112), Note(start=26.270325, end=26.423704, pitch=52, velocity=112), Note(start=26.432488, end=26.585866, pitch=50, velocity=112), Note(start=26.594650, end=26.748029, pitch=52, velocity=112), Note(start=26.756813, end=26.910191, pitch=57, velocity=112), Note(start=26.918975, end=27.072354, pitch=52, velocity=112), Note(start=27.081138, end=27.234516, pitch=50, velocity=112), Note(start=27.243300, end=27.396679, pitch=52, velocity=112), Note(start=27.243300, end=28.475059, pitch=46, velocity=112), Note(start=27.405463, end=27.558841, pitch=50, velocity=112), Note(start=27.567625, end=27.721004, pitch=52, velocity=112), Note(start=27.729788, end=27.883166, pitch=57, velocity=112), Note(start=27.891950, end=28.045329, pitch=52, velocity=112), Note(start=28.054113, end=28.207491, pitch=50, velocity=112), Note(start=28.216275, end=28.369654, pitch=52, velocity=112), Note(start=28.378438, end=28.531816, pitch=55, velocity=112), Note(start=28.540600, end=28.848033, pitch=35, velocity=112), Note(start=28.540600, end=28.848033, pitch=47, velocity=112), Note(start=28.864925, end=29.018304, pitch=47, velocity=112), Note(start=29.027088, end=29.334521, pitch=54, velocity=112), Note(start=29.027088, end=29.334521, pitch=59, velocity=112), Note(start=29.351413, end=29.504791, pitch=42, velocity=112), Note(start=29.513575, end=29.666954, pitch=54, velocity=112), Note(start=29.513575, end=29.666954, pitch=59, velocity=112), Note(start=29.675738, end=29.829116, pitch=42, velocity=112), Note(start=29.837900, end=30.145333, pitch=36, velocity=112), Note(start=29.837900, end=30.145333, pitch=48, velocity=112), Note(start=30.162225, end=30.315604, pitch=48, velocity=112), Note(start=30.324388, end=30.631821, pitch=55, velocity=112), Note(start=30.324388, end=30.631821, pitch=60, velocity=112), Note(start=30.648713, end=30.802091, pitch=48, velocity=112), Note(start=30.810875, end=30.964254, pitch=57, velocity=112), Note(start=30.810875, end=30.964254, pitch=60, velocity=112), Note(start=30.973038, end=31.126416, pitch=48, velocity=112), Note(start=31.135200, end=31.442633, pitch=31, velocity=112), Note(start=31.135200, end=31.442633, pitch=43, velocity=112), Note(start=31.459525, end=31.612904, pitch=43, velocity=112), Note(start=31.621688, end=31.929121, pitch=50, velocity=112), Note(start=31.621688, end=31.929121, pitch=55, velocity=112), Note(start=31.946013, end=32.099391, pitch=43, velocity=112), Note(start=32.108175, end=32.261554, pitch=50, velocity=112), Note(start=32.108175, end=32.261554, pitch=55, velocity=112), Note(start=32.270338, end=32.423716, pitch=43, velocity=112), Note(start=32.432500, end=32.739933, pitch=33, velocity=112), Note(start=32.432500, end=32.739933, pitch=45, velocity=112), Note(start=32.756825, end=32.910204, pitch=45, velocity=112), Note(start=32.918988, end=33.226421, pitch=52, velocity=112), Note(start=32.918988, end=33.226421, pitch=57, velocity=112), Note(start=33.243313, end=33.396691, pitch=45, velocity=112), Note(start=33.405475, end=33.558854, pitch=52, velocity=112), Note(start=33.405475, end=33.558854, pitch=57, velocity=112), Note(start=33.567638, end=33.721016, pitch=45, velocity=112), Note(start=33.729800, end=33.883179, pitch=35, velocity=112), Note(start=33.729800, end=33.883179, pitch=47, velocity=112), Note(start=33.891962, end=34.045341, pitch=42, velocity=112), Note(start=34.054125, end=34.207504, pitch=47, velocity=112), Note(start=34.216287, end=34.369666, pitch=42, velocity=112), Note(start=34.216287, end=34.369666, pitch=54, velocity=112), Note(start=34.378450, end=34.531829, pitch=47, velocity=112), Note(start=34.540613, end=34.693991, pitch=54, velocity=112), Note(start=34.702775, end=35.010208, pitch=47, velocity=112), Note(start=34.702775, end=35.010208, pitch=59, velocity=112), Note(start=35.027100, end=35.180479, pitch=34, velocity=112), Note(start=35.027100, end=35.180479, pitch=46, velocity=112), Note(start=35.189262, end=35.342641, pitch=42, velocity=112), Note(start=35.351425, end=35.504804, pitch=46, velocity=112), Note(start=35.513587, end=35.666966, pitch=42, velocity=112), Note(start=35.513587, end=35.666966, pitch=54, velocity=112), Note(start=35.675750, end=35.829129, pitch=46, velocity=112), Note(start=35.837913, end=35.991291, pitch=54, velocity=112), Note(start=36.000075, end=36.307508, pitch=46, velocity=112), Note(start=36.000075, end=36.307508, pitch=58, velocity=112), Note(start=36.324400, end=36.477779, pitch=33, velocity=112), Note(start=36.324400, end=36.477779, pitch=45, velocity=112), Note(start=36.486562, end=36.639941, pitch=42, velocity=112), Note(start=36.648725, end=36.802104, pitch=45, velocity=112), Note(start=36.810887, end=36.964266, pitch=42, velocity=112), Note(start=36.810887, end=36.964266, pitch=54, velocity=112), Note(start=36.973050, end=37.126429, pitch=49, velocity=112), Note(start=37.135213, end=37.288591, pitch=54, velocity=112), Note(start=37.297375, end=37.604808, pitch=45, velocity=112), Note(start=37.297375, end=37.604808, pitch=57, velocity=112), Note(start=37.621700, end=37.929133, pitch=32, velocity=112), Note(start=37.621700, end=37.929133, pitch=44, velocity=112), Note(start=37.946025, end=38.099404, pitch=44, velocity=112), Note(start=38.108187, end=38.415621, pitch=51, velocity=112), Note(start=38.108187, end=38.415621, pitch=56, velocity=112), Note(start=38.432513, end=38.585891, pitch=44, velocity=112), Note(start=38.594675, end=38.748054, pitch=51, velocity=112), Note(start=38.594675, end=38.748054, pitch=56, velocity=112), Note(start=38.756838, end=38.910216, pitch=44, velocity=112), Note(start=38.919000, end=39.226433, pitch=31, velocity=112), Note(start=38.919000, end=39.226433, pitch=43, velocity=112), Note(start=39.243325, end=39.396704, pitch=55, velocity=112), Note(start=39.405487, end=39.558866, pitch=50, velocity=112), Note(start=39.567650, end=39.875083, pitch=31, velocity=112), Note(start=39.567650, end=39.875083, pitch=43, velocity=112), Note(start=39.891975, end=40.045354, pitch=55, velocity=112), Note(start=40.054138, end=40.207516, pitch=50, velocity=112), Note(start=40.216300, end=40.523733, pitch=31, velocity=112), Note(start=40.216300, end=40.523733, pitch=43, velocity=112), Note(start=40.540625, end=40.694004, pitch=55, velocity=112), Note(start=40.702787, end=40.856166, pitch=50, velocity=112), Note(start=40.864950, end=41.172383, pitch=31, velocity=112), Note(start=40.864950, end=41.172383, pitch=43, velocity=112), Note(start=41.189275, end=41.342654, pitch=55, velocity=112), Note(start=41.351438, end=41.504816, pitch=50, velocity=112), Note(start=41.513600, end=41.666979, pitch=33, velocity=112), Note(start=41.513600, end=41.666979, pitch=45, velocity=112), Note(start=41.675763, end=41.829141, pitch=33, velocity=112), Note(start=41.675763, end=41.829141, pitch=45, velocity=112), Note(start=41.837925, end=41.991304, pitch=33, velocity=112), Note(start=41.837925, end=41.991304, pitch=45, velocity=112), Note(start=42.000087, end=42.153466, pitch=33, velocity=112), Note(start=42.000087, end=42.153466, pitch=45, velocity=112), Note(start=42.162250, end=42.315629, pitch=33, velocity=112), Note(start=42.162250, end=42.315629, pitch=45, velocity=112), Note(start=42.324413, end=42.477791, pitch=33, velocity=112), Note(start=42.324413, end=42.477791, pitch=45, velocity=112), Note(start=42.486575, end=42.639954, pitch=33, velocity=112), Note(start=42.486575, end=42.639954, pitch=45, velocity=112), Note(start=42.648738, end=42.802116, pitch=40, velocity=112), Note(start=42.810900, end=42.916981, pitch=33, velocity=112), Note(start=42.810900, end=42.916981, pitch=45, velocity=112), Note(start=43.621713, end=43.775091, pitch=33, velocity=112), Note(start=43.783875, end=43.937254, pitch=45, velocity=112), Note(start=43.946038, end=44.099416, pitch=40, velocity=112), Note(start=44.108200, end=44.569687, pitch=30, velocity=126), Note(start=44.108200, end=44.569687, pitch=42, velocity=126), Note(start=44.594687, end=44.902121, pitch=50, velocity=126), Note(start=44.594687, end=44.902121, pitch=54, velocity=126), Note(start=44.919013, end=45.072391, pitch=42, velocity=126), Note(start=45.081175, end=45.234554, pitch=50, velocity=126), Note(start=45.081175, end=45.234554, pitch=54, velocity=126), Note(start=45.243338, end=45.396716, pitch=42, velocity=126), Note(start=45.405500, end=45.712933, pitch=31, velocity=126), Note(start=45.405500, end=45.712933, pitch=43, velocity=126), Note(start=45.729825, end=45.883204, pitch=43, velocity=126), Note(start=45.891987, end=46.199421, pitch=50, velocity=126), Note(start=45.891987, end=46.199421, pitch=59, velocity=126), Note(start=46.216313, end=46.369691, pitch=43, velocity=126), Note(start=46.378475, end=46.531854, pitch=50, velocity=126), Note(start=46.378475, end=46.531854, pitch=55, velocity=126), Note(start=46.540638, end=46.694016, pitch=43, velocity=126), Note(start=46.702800, end=47.010233, pitch=33, velocity=126), Note(start=46.702800, end=47.010233, pitch=45, velocity=126), Note(start=47.027125, end=47.180504, pitch=45, velocity=126), Note(start=47.189287, end=47.496721, pitch=52, velocity=126), Note(start=47.189287, end=47.496721, pitch=61, velocity=126), Note(start=47.513613, end=47.666991, pitch=45, velocity=126), Note(start=47.675775, end=47.829154, pitch=52, velocity=126), Note(start=47.675775, end=47.829154, pitch=57, velocity=126), Note(start=47.837938, end=47.991316, pitch=45, velocity=126), Note(start=48.000100, end=48.307533, pitch=34, velocity=126), Note(start=48.000100, end=48.307533, pitch=46, velocity=126), Note(start=48.324425, end=48.477804, pitch=46, velocity=126), Note(start=48.486587, end=48.794021, pitch=54, velocity=126), Note(start=48.486587, end=48.794021, pitch=58, velocity=126), Note(start=48.810913, end=48.964291, pitch=46, velocity=126), Note(start=48.973075, end=49.126454, pitch=54, velocity=126), Note(start=48.973075, end=49.126454, pitch=58, velocity=126), Note(start=49.135238, end=49.288616, pitch=46, velocity=126), Note(start=49.297400, end=49.604833, pitch=35, velocity=126), Note(start=49.297400, end=49.604833, pitch=47, velocity=126), Note(start=49.621725, end=49.775104, pitch=47, velocity=126), Note(start=49.783887, end=50.091321, pitch=54, velocity=126), Note(start=49.783887, end=50.091321, pitch=59, velocity=126), Note(start=50.108213, end=50.261591, pitch=47, velocity=126), Note(start=50.270375, end=50.423754, pitch=54, velocity=126), Note(start=50.270375, end=50.423754, pitch=59, velocity=126), Note(start=50.432538, end=50.585916, pitch=47, velocity=126), Note(start=50.594700, end=50.902133, pitch=30, velocity=126), Note(start=50.594700, end=50.902133, pitch=42, velocity=126), Note(start=50.919025, end=51.072404, pitch=42, velocity=126), Note(start=51.081187, end=51.388621, pitch=50, velocity=126), Note(start=51.081187, end=51.388621, pitch=54, velocity=126), Note(start=51.405513, end=51.558891, pitch=42, velocity=126), Note(start=51.567675, end=51.721054, pitch=50, velocity=126), Note(start=51.567675, end=51.721054, pitch=54, velocity=126), Note(start=51.729838, end=51.883216, pitch=42, velocity=126), Note(start=51.892000, end=52.199433, pitch=31, velocity=126), Note(start=51.892000, end=52.199433, pitch=43, velocity=126), Note(start=52.216325, end=52.369704, pitch=43, velocity=126), Note(start=52.378487, end=52.685921, pitch=50, velocity=126), Note(start=52.378487, end=52.685921, pitch=55, velocity=126), Note(start=52.702813, end=52.856191, pitch=43, velocity=126), Note(start=52.864975, end=53.018354, pitch=50, velocity=126), Note(start=52.864975, end=53.018354, pitch=55, velocity=126), Note(start=53.027138, end=53.180516, pitch=43, velocity=126), Note(start=53.189300, end=53.496733, pitch=33, velocity=126), Note(start=53.189300, end=53.496733, pitch=45, velocity=126), Note(start=53.513625, end=53.667004, pitch=45, velocity=126), Note(start=53.675788, end=53.983221, pitch=52, velocity=126), Note(start=53.675788, end=53.983221, pitch=57, velocity=126), Note(start=54.000113, end=54.153491, pitch=45, velocity=126), Note(start=54.162275, end=54.315654, pitch=52, velocity=126), Note(start=54.162275, end=54.315654, pitch=57, velocity=126), Note(start=54.324438, end=54.477816, pitch=45, velocity=126), Note(start=54.486600, end=54.948087, pitch=30, velocity=126), Note(start=54.486600, end=54.948087, pitch=42, velocity=126), Note(start=54.973088, end=55.280521, pitch=50, velocity=126), Note(start=54.973088, end=55.280521, pitch=54, velocity=126), Note(start=55.297413, end=55.450791, pitch=42, velocity=126), Note(start=55.459575, end=55.612954, pitch=50, velocity=126), Note(start=55.459575, end=55.612954, pitch=54, velocity=126), Note(start=55.621738, end=55.775116, pitch=42, velocity=126), Note(start=55.783900, end=56.091333, pitch=31, velocity=126), Note(start=55.783900, end=56.091333, pitch=43, velocity=126), Note(start=56.108225, end=56.261604, pitch=43, velocity=126), Note(start=56.270388, end=56.577821, pitch=50, velocity=126), Note(start=56.270388, end=56.577821, pitch=59, velocity=126), Note(start=56.594712, end=56.748091, pitch=43, velocity=126), Note(start=56.756875, end=56.910254, pitch=50, velocity=126), Note(start=56.756875, end=56.910254, pitch=55, velocity=126), Note(start=56.919038, end=57.072416, pitch=43, velocity=126), Note(start=57.081200, end=57.388633, pitch=33, velocity=126), Note(start=57.081200, end=57.388633, pitch=45, velocity=126), Note(start=57.405525, end=57.558904, pitch=45, velocity=126), Note(start=57.567688, end=57.875121, pitch=52, velocity=126), Note(start=57.567688, end=57.875121, pitch=61, velocity=126), Note(start=57.892012, end=58.045391, pitch=45, velocity=126), Note(start=58.054175, end=58.207554, pitch=52, velocity=126), Note(start=58.054175, end=58.207554, pitch=57, velocity=126), Note(start=58.216338, end=58.369716, pitch=45, velocity=126), Note(start=58.378500, end=58.685933, pitch=34, velocity=126), Note(start=58.378500, end=58.685933, pitch=46, velocity=126), Note(start=58.702825, end=58.856204, pitch=46, velocity=126), Note(start=58.864988, end=59.172421, pitch=54, velocity=126), Note(start=58.864988, end=59.172421, pitch=58, velocity=126), Note(start=59.189312, end=59.342691, pitch=46, velocity=126), Note(start=59.351475, end=59.504854, pitch=54, velocity=126), Note(start=59.351475, end=59.504854, pitch=58, velocity=126), Note(start=59.513638, end=59.667016, pitch=46, velocity=126), Note(start=59.675800, end=59.983233, pitch=35, velocity=126), Note(start=59.675800, end=59.983233, pitch=47, velocity=126), Note(start=60.000125, end=60.153504, pitch=47, velocity=126), Note(start=60.162288, end=60.469721, pitch=54, velocity=126), Note(start=60.162288, end=60.469721, pitch=59, velocity=126), Note(start=60.486612, end=60.639991, pitch=47, velocity=126), Note(start=60.648775, end=60.802154, pitch=54, velocity=126), Note(start=60.648775, end=60.802154, pitch=59, velocity=126), Note(start=60.810938, end=60.964316, pitch=47, velocity=126), Note(start=60.973100, end=61.280533, pitch=30, velocity=126), Note(start=60.973100, end=61.280533, pitch=42, velocity=126), Note(start=61.297425, end=61.450804, pitch=42, velocity=126), Note(start=61.459588, end=61.767021, pitch=50, velocity=126), Note(start=61.459588, end=61.767021, pitch=54, velocity=126), Note(start=61.783912, end=61.937291, pitch=42, velocity=126), Note(start=61.946075, end=62.099454, pitch=50, velocity=126), Note(start=61.946075, end=62.099454, pitch=54, velocity=126), Note(start=62.108238, end=62.261616, pitch=42, velocity=126), Note(start=62.270400, end=62.577833, pitch=31, velocity=126), Note(start=62.270400, end=62.577833, pitch=43, velocity=126), Note(start=62.594725, end=62.748104, pitch=43, velocity=126), Note(start=62.756888, end=63.064321, pitch=50, velocity=126), Note(start=62.756888, end=63.064321, pitch=55, velocity=126), Note(start=63.081212, end=63.234591, pitch=43, velocity=126), Note(start=63.243375, end=63.396754, pitch=50, velocity=126), Note(start=63.243375, end=63.396754, pitch=55, velocity=126), Note(start=63.405538, end=63.558916, pitch=43, velocity=126), Note(start=63.567700, end=63.721079, pitch=33, velocity=112), Note(start=63.567700, end=63.721079, pitch=45, velocity=112), Note(start=63.729863, end=63.883241, pitch=40, velocity=112), Note(start=63.892025, end=64.045404, pitch=35, velocity=112), Note(start=63.892025, end=64.045404, pitch=47, velocity=112), Note(start=64.054187, end=64.207566, pitch=42, velocity=112), Note(start=64.216350, end=64.369729, pitch=37, velocity=112), Note(start=64.216350, end=64.369729, pitch=49, velocity=112), Note(start=64.378512, end=64.531891, pitch=45, velocity=112), Note(start=64.540675, end=64.848108, pitch=40, velocity=112), Note(start=64.540675, end=64.848108, pitch=52, velocity=112), Note(start=64.865000, end=65.018379, pitch=30, velocity=112), Note(start=64.865000, end=65.018379, pitch=42, velocity=112), Note(start=65.027163, end=65.180541, pitch=42, velocity=112), Note(start=65.189325, end=65.342704, pitch=50, velocity=112), Note(start=65.351488, end=65.504866, pitch=54, velocity=112), Note(start=65.513650, end=65.667029, pitch=50, velocity=112), Note(start=65.675813, end=65.829191, pitch=42, velocity=112), Note(start=65.837975, end=65.991354, pitch=54, velocity=112), Note(start=66.000138, end=66.153516, pitch=50, velocity=112), Note(start=66.162300, end=66.315679, pitch=31, velocity=112), Note(start=66.162300, end=66.315679, pitch=43, velocity=112), Note(start=66.324462, end=66.477841, pitch=43, velocity=112), Note(start=66.486625, end=66.640004, pitch=50, velocity=112), Note(start=66.648787, end=66.802166, pitch=59, velocity=112), Note(start=66.810950, end=66.964329, pitch=50, velocity=112), Note(start=66.973112, end=67.126491, pitch=43, velocity=112), Note(start=67.135275, end=67.288654, pitch=55, velocity=112), Note(start=67.297438, end=67.450816, pitch=50, velocity=112), Note(start=67.459600, end=67.612979, pitch=33, velocity=112), Note(start=67.459600, end=67.612979, pitch=45, velocity=112), Note(start=67.621763, end=67.775141, pitch=45, velocity=112), Note(start=67.783925, end=67.937304, pitch=52, velocity=112), Note(start=67.946088, end=68.099466, pitch=61, velocity=112), Note(start=68.108250, end=68.261629, pitch=52, velocity=112), Note(start=68.270413, end=68.577846, pitch=34, velocity=112), Note(start=68.432575, end=68.585954, pitch=49, velocity=112), Note(start=68.594738, end=68.748116, pitch=42, velocity=112), Note(start=68.756900, end=68.910279, pitch=30, velocity=112), Note(start=68.756900, end=68.910279, pitch=42, velocity=112), Note(start=68.919063, end=69.072441, pitch=42, velocity=112), Note(start=69.081225, end=69.388658, pitch=49, velocity=112), Note(start=69.081225, end=69.388658, pitch=54, velocity=112), Note(start=69.405550, end=69.712983, pitch=37, velocity=112), Note(start=69.729875, end=69.883254, pitch=49, velocity=112), Note(start=69.892038, end=70.045416, pitch=38, velocity=112), Note(start=70.054200, end=70.361633, pitch=38, velocity=112), Note(start=70.054200, end=70.361633, pitch=50, velocity=112), Note(start=70.378525, end=70.531904, pitch=54, velocity=112), Note(start=70.378525, end=70.531904, pitch=59, velocity=112), Note(start=70.540688, end=70.848121, pitch=47, velocity=112), Note(start=70.865013, end=71.018391, pitch=47, velocity=112), Note(start=71.027175, end=71.180554, pitch=54, velocity=112), Note(start=71.027175, end=71.180554, pitch=59, velocity=112), Note(start=71.189338, end=71.342716, pitch=47, velocity=112), Note(start=71.351500, end=71.658933, pitch=37, velocity=112), Note(start=71.351500, end=71.658933, pitch=49, velocity=112), Note(start=71.675825, end=71.829204, pitch=54, velocity=112), Note(start=71.675825, end=71.829204, pitch=57, velocity=112), Note(start=71.837987, end=72.145421, pitch=45, velocity=112), Note(start=72.162312, end=72.315691, pitch=45, velocity=112), Note(start=72.324475, end=72.477854, pitch=54, velocity=112), Note(start=72.324475, end=72.477854, pitch=57, velocity=112), Note(start=72.486638, end=72.640016, pitch=45, velocity=112), Note(start=72.648800, end=72.956233, pitch=31, velocity=112), Note(start=72.648800, end=72.956233, pitch=43, velocity=112), Note(start=72.973125, end=73.126504, pitch=52, velocity=112), Note(start=72.973125, end=73.126504, pitch=55, velocity=112), Note(start=73.135288, end=73.442721, pitch=43, velocity=112), Note(start=73.459613, end=73.612991, pitch=43, velocity=112), Note(start=73.621775, end=73.775154, pitch=50, velocity=112), Note(start=73.621775, end=73.775154, pitch=55, velocity=112), Note(start=73.783938, end=73.937316, pitch=43, velocity=112), Note(start=73.946100, end=74.253533, pitch=33, velocity=112), Note(start=73.946100, end=74.253533, pitch=45, velocity=112), Note(start=74.270425, end=74.423804, pitch=45, velocity=112), Note(start=74.432587, end=74.740021, pitch=52, velocity=112), Note(start=74.432587, end=74.740021, pitch=57, velocity=112), Note(start=74.756912, end=74.910291, pitch=45, velocity=112), Note(start=74.919075, end=75.072454, pitch=52, velocity=112), Note(start=74.919075, end=75.072454, pitch=57, velocity=112), Note(start=75.081238, end=75.234616, pitch=45, velocity=112), Note(start=75.243400, end=75.396779, pitch=31, velocity=112), Note(start=75.243400, end=75.396779, pitch=43, velocity=112), Note(start=75.405563, end=75.558941, pitch=43, velocity=112), Note(start=75.567725, end=75.721104, pitch=50, velocity=112), Note(start=75.729888, end=75.883266, pitch=59, velocity=112), Note(start=75.892050, end=76.045429, pitch=50, velocity=112), Note(start=76.054213, end=76.207591, pitch=43, velocity=112), Note(start=76.216375, end=76.369754, pitch=55, velocity=112), Note(start=76.378538, end=76.531916, pitch=50, velocity=112), Note(start=76.540700, end=76.694079, pitch=34, velocity=112), Note(start=76.540700, end=76.694079, pitch=46, velocity=112), Note(start=76.702863, end=76.856241, pitch=46, velocity=112), Note(start=76.865025, end=77.018404, pitch=54, velocity=112), Note(start=77.027187, end=77.180566, pitch=58, velocity=112), Note(start=77.189350, end=77.342729, pitch=54, velocity=112), Note(start=77.351512, end=77.504891, pitch=46, velocity=112), Note(start=77.513675, end=77.667054, pitch=58, velocity=112), Note(start=77.675838, end=77.829216, pitch=54, velocity=112), Note(start=77.838000, end=77.991379, pitch=35, velocity=112), Note(start=77.838000, end=77.991379, pitch=47, velocity=112), Note(start=78.000163, end=78.153541, pitch=47, velocity=112), Note(start=78.162325, end=78.315704, pitch=54, velocity=112), Note(start=78.324488, end=78.477866, pitch=59, velocity=112), Note(start=78.486650, end=78.640029, pitch=54, velocity=112), Note(start=78.648813, end=78.802191, pitch=47, velocity=112), Note(start=78.810975, end=78.964354, pitch=59, velocity=112), Note(start=78.973138, end=79.126516, pitch=54, velocity=112), Note(start=79.135300, end=79.442733, pitch=38, velocity=112), Note(start=79.135300, end=79.442733, pitch=50, velocity=112), Note(start=79.459625, end=79.613004, pitch=45, velocity=112), Note(start=79.621787, end=79.775166, pitch=54, velocity=112), Note(start=79.783950, end=79.937329, pitch=45, velocity=112), Note(start=79.946112, end=80.099491, pitch=38, velocity=112), Note(start=80.108275, end=80.261654, pitch=50, velocity=112), Note(start=80.270437, end=80.423816, pitch=45, velocity=112), Note(start=80.432600, end=80.740033, pitch=31, velocity=112), Note(start=80.432600, end=80.740033, pitch=43, velocity=112), Note(start=80.756925, end=80.910304, pitch=55, velocity=112), Note(start=80.919088, end=81.226521, pitch=43, velocity=112), Note(start=81.243413, end=81.396791, pitch=43, velocity=112), Note(start=81.405575, end=81.558954, pitch=55, velocity=112), Note(start=81.567738, end=81.721116, pitch=43, velocity=112), Note(start=81.729900, end=82.037333, pitch=31, velocity=112), Note(start=81.729900, end=82.037333, pitch=43, velocity=112), Note(start=82.054225, end=82.207604, pitch=55, velocity=112), Note(start=82.216387, end=82.523821, pitch=43, velocity=112), Note(start=82.540712, end=82.694091, pitch=43, velocity=112), Note(start=82.702875, end=82.856254, pitch=55, velocity=112), Note(start=82.865037, end=83.018416, pitch=43, velocity=112), Note(start=83.027200, end=83.180579, pitch=35, velocity=112), Note(start=83.027200, end=83.180579, pitch=47, velocity=112), Note(start=83.189363, end=83.342741, pitch=42, velocity=112), Note(start=83.351525, end=83.504904, pitch=35, velocity=112), Note(start=83.513688, end=83.667066, pitch=33, velocity=112), Note(start=83.513688, end=83.667066, pitch=45, velocity=112), Note(start=83.675850, end=83.829229, pitch=42, velocity=112), Note(start=83.838013, end=83.991391, pitch=33, velocity=112), Note(start=84.000175, end=84.153554, pitch=45, velocity=112), Note(start=84.162338, end=84.315716, pitch=43, velocity=112), Note(start=84.324500, end=84.477879, pitch=31, velocity=112), Note(start=84.324500, end=84.477879, pitch=43, velocity=112), Note(start=84.486663, end=84.640041, pitch=38, velocity=112), Note(start=84.648825, end=84.802204, pitch=31, velocity=112), Note(start=84.810988, end=84.964366, pitch=43, velocity=112), Note(start=84.973150, end=85.126529, pitch=33, velocity=112), Note(start=84.973150, end=85.126529, pitch=45, velocity=112), Note(start=85.135312, end=85.288691, pitch=40, velocity=112), Note(start=85.297475, end=85.450854, pitch=33, velocity=112), Note(start=85.459637, end=85.666395, pitch=43, velocity=112)]\n"
     ]
    }
   ],
   "source": [
    "print(s2.notes)"
   ]
  },
  {
   "cell_type": "code",
   "execution_count": 12,
   "metadata": {},
   "outputs": [],
   "source": [
    "s1.adjust_time(-s1.notes[0].start)"
   ]
  },
  {
   "cell_type": "code",
   "execution_count": 13,
   "metadata": {},
   "outputs": [],
   "source": [
    "USE_VELOCITY = True\n",
    "DEFAULT_TEMPO = 120\n",
    "BEAT_LENGTH = 60 / DEFAULT_TEMPO\n",
    "DEFAULT_TIME_SHIFT_BINS = 1.15 ** np.arange(32) / 65\n",
    "DEFAULT_VELOCITY_STEPS = 32\n",
    "DEFAULT_NOTE_LENGTH = BEAT_LENGTH * 2\n",
    "MIN_NOTE_LENGTH = BEAT_LENGTH / 2\n",
    "DEFAULT_PITCH_RANGE = range(21, 109)\n",
    "DEFAULT_VELOCITY_RANGE = range(21, 109)"
   ]
  },
  {
   "cell_type": "code",
   "execution_count": 14,
   "metadata": {},
   "outputs": [],
   "source": [
    "pitch_range = DEFAULT_PITCH_RANGE\n",
    "velocity_range = DEFAULT_VELOCITY_RANGE\n",
    "velocity_steps = DEFAULT_VELOCITY_STEPS\n",
    "time_shift_bins = DEFAULT_TIME_SHIFT_BINS"
   ]
  },
  {
   "cell_type": "code",
   "execution_count": 15,
   "metadata": {},
   "outputs": [
    {
     "data": {
      "text/plain": [
       "0.5"
      ]
     },
     "execution_count": 15,
     "metadata": {},
     "output_type": "execute_result"
    }
   ],
   "source": [
    "BEAT_LENGTH"
   ]
  },
  {
   "cell_type": "code",
   "execution_count": 16,
   "metadata": {},
   "outputs": [
    {
     "data": {
      "text/plain": [
       "array([0.01538462, 0.01769231, 0.02034615, 0.02339808, 0.02690779,\n",
       "       0.03094396, 0.03558555, 0.04092338, 0.04706189, 0.05412117,\n",
       "       0.06223935, 0.07157525, 0.08231154, 0.09465827, 0.10885701,\n",
       "       0.12518556, 0.1439634 , 0.16555791, 0.19039159, 0.21895033,\n",
       "       0.25179288, 0.28956182, 0.33299609, 0.3829455 , 0.44038733,\n",
       "       0.50644542, 0.58241224, 0.66977407, 0.77024019, 0.88577621,\n",
       "       1.01864265, 1.17143904])"
      ]
     },
     "execution_count": 16,
     "metadata": {},
     "output_type": "execute_result"
    }
   ],
   "source": [
    "time_shift_bins"
   ]
  },
  {
   "cell_type": "code",
   "execution_count": 17,
   "metadata": {},
   "outputs": [
    {
     "data": {
      "text/plain": [
       "0.25"
      ]
     },
     "execution_count": 17,
     "metadata": {},
     "output_type": "execute_result"
    }
   ],
   "source": [
    "MIN_NOTE_LENGTH"
   ]
  },
  {
   "cell_type": "code",
   "execution_count": 18,
   "metadata": {},
   "outputs": [],
   "source": [
    "def get_velocity_bins():\n",
    "        n = es.velocity_range.stop - es.velocity_range.start\n",
    "        return np.arange(es.velocity_range.start,\n",
    "                         es.velocity_range.stop,\n",
    "                         n / (es.velocity_steps - 1))"
   ]
  },
  {
   "cell_type": "code",
   "execution_count": 19,
   "metadata": {},
   "outputs": [
    {
     "data": {
      "text/plain": [
       "array([ 21.        ,  23.83870968,  26.67741935,  29.51612903,\n",
       "        32.35483871,  35.19354839,  38.03225806,  40.87096774,\n",
       "        43.70967742,  46.5483871 ,  49.38709677,  52.22580645,\n",
       "        55.06451613,  57.90322581,  60.74193548,  63.58064516,\n",
       "        66.41935484,  69.25806452,  72.09677419,  74.93548387,\n",
       "        77.77419355,  80.61290323,  83.4516129 ,  86.29032258,\n",
       "        89.12903226,  91.96774194,  94.80645161,  97.64516129,\n",
       "       100.48387097, 103.32258065, 106.16129032])"
      ]
     },
     "execution_count": 19,
     "metadata": {},
     "output_type": "execute_result"
    }
   ],
   "source": [
    "get_velocity_bins()"
   ]
  },
  {
   "cell_type": "code",
   "execution_count": 20,
   "metadata": {},
   "outputs": [],
   "source": [
    "class Event:\n",
    "\n",
    "    def __init__(self, type, time, value):\n",
    "        self.type = type # can be of four types: 1)velocity 2)note_on 3)note_off 4)time_shift\n",
    "        self.time = time # indicates the absoulte time where the event starts\n",
    "        self.value = value # in case of velocity it indicates the velocity bin, in case of pitch the actual pitch\n",
    "\n",
    "    def __repr__(self):\n",
    "        return 'Event(type={}, time={}, value={})'.format(\n",
    "            self.type, self.time, self.value)"
   ]
  },
  {
   "cell_type": "code",
   "execution_count": 21,
   "metadata": {},
   "outputs": [],
   "source": [
    "def from_note_seq(note_seq):\n",
    "    note_events = []\n",
    "    \n",
    "    velocity_bins = get_velocity_bins()\n",
    "\n",
    "    for note in note_seq.notes:\n",
    "        if note.pitch in pitch_range:\n",
    "\n",
    "            # Regularization of the velocity of a note. We impose the maximum or minimum velocity in \n",
    "            # case the original one is out of our bounds\n",
    "            velocity = note.velocity\n",
    "            velocity = max(velocity, velocity_range.start)\n",
    "            velocity = min(velocity, velocity_range.stop - 1)\n",
    "\n",
    "            velocity_index = np.searchsorted(velocity_bins, velocity)\n",
    "            note_events.append(Event('velocity', note.start, velocity_index))\n",
    "\n",
    "            pitch_index = note.pitch - pitch_range.start\n",
    "            note_events.append(Event('note_on', note.start, pitch_index))\n",
    "            note_events.append(Event('note_off', note.end, pitch_index))\n",
    "\n",
    "    note_events.sort(key=lambda event: event.time)  # stable\n",
    "\n",
    "    #print(note_events)\n",
    "\n",
    "    events = []\n",
    "\n",
    "    for i, event in enumerate(note_events):\n",
    "        events.append(event)\n",
    "        #print(event)\n",
    "\n",
    "        if event is note_events[-1]:\n",
    "            break\n",
    "\n",
    "        interval = note_events[i + 1].time - event.time\n",
    "        shift = 0\n",
    "\n",
    "        while interval - shift >= time_shift_bins[0]:\n",
    "            index = np.searchsorted(time_shift_bins,\n",
    "                                    interval - shift, side='right') - 1\n",
    "            events.append(Event('time_shift', event.time + shift, index))\n",
    "            shift += time_shift_bins[index]\n",
    "\n",
    "    return events"
   ]
  },
  {
   "cell_type": "code",
   "execution_count": 22,
   "metadata": {},
   "outputs": [],
   "source": [
    "pure_events = from_note_seq(s1)"
   ]
  },
  {
   "cell_type": "code",
   "execution_count": 23,
   "metadata": {},
   "outputs": [],
   "source": [
    "for event in pure_events:\n",
    "    assert isinstance(event, Event)"
   ]
  },
  {
   "cell_type": "code",
   "execution_count": 24,
   "metadata": {},
   "outputs": [
    {
     "name": "stdout",
     "output_type": "stream",
     "text": [
      "<class '__main__.Event'>\n"
     ]
    }
   ],
   "source": [
    "print(type(pure_events[0]))"
   ]
  },
  {
   "cell_type": "code",
   "execution_count": 25,
   "metadata": {},
   "outputs": [],
   "source": [
    "es_1 = es(pure_events)"
   ]
  },
  {
   "cell_type": "code",
   "execution_count": 26,
   "metadata": {},
   "outputs": [],
   "source": [
    "class Control:\n",
    "\n",
    "    def __init__(self, pitch_histogram, note_density):\n",
    "        self.pitch_histogram = pitch_histogram  # list\n",
    "        self.note_density = note_density  # int\n",
    "\n",
    "    def __repr__(self):\n",
    "        return 'Control(pitch_histogram={}, note_density={})'.format(\n",
    "            self.pitch_histogram, self.note_density)\n",
    "\n",
    "    def to_array(self):\n",
    "        feat_dims = cs.feat_dims()\n",
    "        ndens = np.zeros([feat_dims['note_density']])\n",
    "        ndens[self.note_density] = 1.  # [dens_dim]\n",
    "        phist = np.array(self.pitch_histogram)  # [hist_dim]\n",
    "        return np.concatenate([ndens, phist], 0)  # [dens_dim + hist_dim]\n"
   ]
  },
  {
   "cell_type": "code",
   "execution_count": 27,
   "metadata": {},
   "outputs": [],
   "source": [
    "start, end = 0, 0\n",
    "pitch_count = np.zeros([12])\n",
    "note_count = 0\n",
    "\n",
    "controls = []\n",
    "def _rel_pitch(pitch):\n",
    "            return (pitch - 24) % 12\n",
    "\n",
    "events = list(es_1.events)"
   ]
  },
  {
   "cell_type": "code",
   "execution_count": 28,
   "metadata": {},
   "outputs": [],
   "source": [
    "for i, event in enumerate(events):\n",
    "    #print(i)\n",
    "    #print(event)\n",
    "    #print(f\"Start at {start} and Ending at {end}. Cycle {i}/{len(events)}. Note Count {note_count}\")\n",
    "\n",
    "    while start < i:\n",
    "        if events[start].type == 'note_on':\n",
    "            abs_pitch = events[start].value + es.pitch_range.start\n",
    "            rel_pitch = _rel_pitch(abs_pitch)\n",
    "            pitch_count[rel_pitch] -= 1.\n",
    "            note_count -= 1.\n",
    "        start += 1\n",
    "        #print(f\"Start Value = {start} Abs pitch = {abs_pitch} Rel pitch = {rel_pitch}\")\n",
    "\n",
    "    while end < len(events):\n",
    "        if events[end].time - event.time > cs.window_size:\n",
    "            break\n",
    "        if events[end].type == 'note_on':\n",
    "            abs_pitch = events[end].value + es.pitch_range.start\n",
    "            rel_pitch = _rel_pitch(abs_pitch)\n",
    "            pitch_count[rel_pitch] += 1.\n",
    "            note_count += 1.\n",
    "        end += 1\n",
    "        #print(f\"End Value = {end} Abs pitch = {abs_pitch} Rel pitch = {rel_pitch}\")\n",
    "    # list containing the probability of each note (sum = 1)\n",
    "    pitch_histogram = (\n",
    "                pitch_count / note_count\n",
    "                if note_count\n",
    "                else np.ones([12]) / 12\n",
    "            ).tolist()\n",
    "    #print(pitch_histogram)\n",
    "\n",
    "    note_density = max(np.searchsorted(\n",
    "        cs.note_density_bins,\n",
    "        note_count, side='right') - 1, 0)\n",
    "    #print(note_density)\n",
    "\n",
    "    controls.append(Control(pitch_histogram, note_density))"
   ]
  },
  {
   "cell_type": "code",
   "execution_count": 29,
   "metadata": {},
   "outputs": [],
   "source": [
    "cs_1 = cs.from_event_seq(es_1)"
   ]
  },
  {
   "cell_type": "code",
   "execution_count": 30,
   "metadata": {},
   "outputs": [],
   "source": [
    "esa = es_1.to_array()"
   ]
  },
  {
   "cell_type": "code",
   "execution_count": 31,
   "metadata": {},
   "outputs": [],
   "source": [
    "feat_idxs = es.feat_ranges()"
   ]
  },
  {
   "cell_type": "code",
   "execution_count": 32,
   "metadata": {},
   "outputs": [
    {
     "data": {
      "text/plain": [
       "range(0, 88)"
      ]
     },
     "execution_count": 32,
     "metadata": {},
     "output_type": "execute_result"
    }
   ],
   "source": [
    "feat_idxs['note_on']"
   ]
  },
  {
   "cell_type": "code",
   "execution_count": 33,
   "metadata": {},
   "outputs": [],
   "source": [
    "idxs = [feat_idxs[event.type][event.value] for event in events]"
   ]
  },
  {
   "cell_type": "code",
   "execution_count": 34,
   "metadata": {},
   "outputs": [],
   "source": [
    "# taken from one file\n",
    "#\n",
    "# 88 ids for note on (88 pitches)\n",
    "# 88 ids for note off (88 pitches)\n",
    "# 32 ids for velocity\n",
    "# 32 ids for time shifts\n",
    "\n",
    "#for event in events:\n",
    "#    print(f\"event of type {event.type} in range {feat_idxs[event.type]}\")#[event.value])"
   ]
  },
  {
   "cell_type": "code",
   "execution_count": 35,
   "metadata": {},
   "outputs": [],
   "source": [
    "dtype = np.uint8 if es.dim() <= 256 else np.uint16"
   ]
  },
  {
   "cell_type": "code",
   "execution_count": 36,
   "metadata": {},
   "outputs": [
    {
     "data": {
      "text/plain": [
       "numpy.uint8"
      ]
     },
     "execution_count": 36,
     "metadata": {},
     "output_type": "execute_result"
    }
   ],
   "source": [
    "dtype"
   ]
  },
  {
   "cell_type": "code",
   "execution_count": 37,
   "metadata": {},
   "outputs": [],
   "source": [
    "es1 = np.array(idxs, dtype=dtype)"
   ]
  },
  {
   "cell_type": "code",
   "execution_count": 38,
   "metadata": {},
   "outputs": [
    {
     "data": {
      "text/plain": [
       "array([[3],\n",
       "       [3],\n",
       "       [3],\n",
       "       ...,\n",
       "       [0],\n",
       "       [0],\n",
       "       [0]], dtype=uint8)"
      ]
     },
     "execution_count": 38,
     "metadata": {},
     "output_type": "execute_result"
    }
   ],
   "source": [
    "ndens = [control.note_density for control in cs_1.controls]\n",
    "ndens = np.array(ndens, dtype=np.uint8).reshape(-1, 1)\n",
    "\n",
    "#densita di note per ogni step\n",
    "\n",
    "ndens"
   ]
  },
  {
   "cell_type": "code",
   "execution_count": 39,
   "metadata": {},
   "outputs": [
    {
     "data": {
      "text/plain": [
       "array([  0,   0,  46,   0,   0,   0,   0,   0,   0,  92,   0, 115],\n",
       "      dtype=uint8)"
      ]
     },
     "execution_count": 39,
     "metadata": {},
     "output_type": "execute_result"
    }
   ],
   "source": [
    "phist = [control.pitch_histogram for control in cs_1.controls]\n",
    "phist = (np.array(phist) * 255).astype(np.uint8)\n",
    "\n",
    "phist[0]"
   ]
  },
  {
   "cell_type": "code",
   "execution_count": 40,
   "metadata": {},
   "outputs": [
    {
     "data": {
      "text/plain": [
       "array([  3,   0,   0,  46,   0,   0,   0,   0,   0,   0,  92,   0, 115],\n",
       "      dtype=uint8)"
      ]
     },
     "execution_count": 40,
     "metadata": {},
     "output_type": "execute_result"
    }
   ],
   "source": [
    "cs_fin = np.concatenate([\n",
    "            ndens,  # [steps, 1] density index\n",
    "            phist  # [steps, hist_dim] 0-255\n",
    "        ], 1)  # [steps, hist_dim + 1]\n",
    "\n",
    "cs_fin[0] #"
   ]
  },
  {
   "cell_type": "markdown",
   "metadata": {},
   "source": [
    "# Quick multi stream"
   ]
  },
  {
   "cell_type": "markdown",
   "metadata": {},
   "source": [
    "# Taking streams"
   ]
  },
  {
   "cell_type": "code",
   "execution_count": 41,
   "metadata": {},
   "outputs": [],
   "source": [
    "midi_path = './Naruto_Shippuden_-_Silhouette.mid'"
   ]
  },
  {
   "cell_type": "code",
   "execution_count": 42,
   "metadata": {},
   "outputs": [],
   "source": [
    "midi = PrettyMIDI(midi_path)"
   ]
  },
  {
   "cell_type": "code",
   "execution_count": 43,
   "metadata": {},
   "outputs": [],
   "source": [
    "es1, es2, cs1, cs2 = preprocess_midi(midi_path)"
   ]
  },
  {
   "cell_type": "markdown",
   "metadata": {},
   "source": [
    "## settings for training and model"
   ]
  },
  {
   "cell_type": "code",
   "execution_count": 44,
   "metadata": {},
   "outputs": [],
   "source": [
    "# Variables for training process\n",
    "\n",
    "init_dim = 32\n",
    "event_dim = es.dim()\n",
    "control_dim = cs.dim()\n",
    "hidden_dim = 512\n",
    "gru_layers = 3\n",
    "gru_droput = 0.3"
   ]
  },
  {
   "cell_type": "code",
   "execution_count": 45,
   "metadata": {},
   "outputs": [],
   "source": [
    "learning_rate = 0.001\n",
    "batch_size = 64\n",
    "window_size = 200\n",
    "stride_size = 10\n",
    "use_transposition = False\n",
    "control_ratio = 1.0\n",
    "teacher_forcing_ratio = 1.0"
   ]
  },
  {
   "cell_type": "markdown",
   "metadata": {},
   "source": [
    "## Options for training session"
   ]
  },
  {
   "cell_type": "code",
   "execution_count": 46,
   "metadata": {},
   "outputs": [],
   "source": [
    "sess_path = 'save/train.sess'\n",
    "data_path = 'Processed-RAW'\n",
    "saving_interval = 60.\n",
    "reset_optimizer = False\n",
    "enable_logging = False"
   ]
  },
  {
   "cell_type": "markdown",
   "metadata": {},
   "source": [
    "# Dataset"
   ]
  },
  {
   "cell_type": "code",
   "execution_count": 47,
   "metadata": {},
   "outputs": [],
   "source": [
    "class Dataset:\n",
    "    def __init__(self, root, verbose=False):\n",
    "        assert os.path.isdir(root), root\n",
    "        paths = utils.find_files_by_extensions(root, ['.data'])\n",
    "\n",
    "        self.root = root\n",
    "        self.samples = []\n",
    "        self.seqlens = []\n",
    "        self.samples2 = []\n",
    "        self.seqlens2 = []\n",
    "\n",
    "        if verbose:\n",
    "            paths = Bar(root).iter(list(paths))\n",
    "        for path in paths:\n",
    "            eventseq, eventseq2, controlseq, controlseq2 = torch.load(path)\n",
    "            controlseq = cs.recover_compressed_array(controlseq)\n",
    "            controlseq2 = cs.recover_compressed_array(controlseq2)\n",
    "            assert len(eventseq) == len(controlseq)\n",
    "            assert len(eventseq2) == len(controlseq2)\n",
    "            self.samples.append((eventseq, controlseq))\n",
    "            self.seqlens.append(len(eventseq))\n",
    "            self.samples2.append((eventseq2,controlseq2))\n",
    "            self.seqlens2.append(len(eventseq2))\n",
    "\n",
    "        self.avglen = np.mean(self.seqlens)\n",
    "        self.avglen2 = np.mean(self.seqlens2)\n",
    "    \n",
    "    def batches(self, batch_size, window_size, stride_size):\n",
    "        indeces = [(i, range(j, j + window_size))\n",
    "                   for i, seqlen in enumerate(self.seqlens)\n",
    "                   for j in range(0, seqlen - window_size, stride_size)]\n",
    "        while True:\n",
    "            eventseq_batch = []\n",
    "            controlseq_batch = []\n",
    "            eventseq_batch2 = []\n",
    "            controlseq_batch2 = []\n",
    "            n = 0\n",
    "            for ii in np.random.permutation(len(indeces)):\n",
    "                i, r = indeces[ii]\n",
    "\n",
    "                eventseq, controlseq = self.samples[i]\n",
    "                eventseq2, controlseq2 = self.samples2[i]\n",
    "\n",
    "                eventseq = eventseq[r.start:r.stop]\n",
    "                eventseq2 = eventseq2[r.start:r.stop]\n",
    "\n",
    "                controlseq = controlseq[r.start:r.stop]\n",
    "                controlseq2 = controlseq2[r.start:r.stop]\n",
    "\n",
    "                eventseq_batch.append(eventseq)\n",
    "                controlseq_batch.append(controlseq)\n",
    "                eventseq_batch2.append(eventseq2)\n",
    "                controlseq_batch2.append(controlseq2)\n",
    "\n",
    "                n += 1\n",
    "                if n == batch_size:\n",
    "                    yield (np.stack(eventseq_batch, axis=1),\n",
    "                           np.stack(controlseq_batch, axis=1),\n",
    "                           np.stack(eventseq_batch, axis=1),\n",
    "                           np.stack(controlseq_batch, axis=1))\n",
    "                    eventseq_batch.clear()\n",
    "                    controlseq_batch.clear()\n",
    "                    eventseq_batch2.clear()\n",
    "                    controlseq_batch2.clear()\n",
    "                    n = 0\n",
    "    \n",
    "    def __repr__(self):\n",
    "        return (f'Dataset(root=\"{self.root}\", '\n",
    "                f'samples={len(self.samples)}, '\n",
    "                f'avglen={self.avglen})')\n"
   ]
  },
  {
   "cell_type": "code",
   "execution_count": 48,
   "metadata": {},
   "outputs": [],
   "source": [
    "cs1 = cs.recover_compressed_array(cs1)\n",
    "cs2 = cs.recover_compressed_array(cs2)"
   ]
  },
  {
   "cell_type": "code",
   "execution_count": 49,
   "metadata": {},
   "outputs": [],
   "source": [
    "seqlens = []\n",
    "seqlens.append(len(es1))"
   ]
  },
  {
   "cell_type": "code",
   "execution_count": 50,
   "metadata": {},
   "outputs": [],
   "source": [
    "indeces = [(i, range(j, j + window_size))\n",
    "                for i, seqlen in enumerate(seqlens)\n",
    "                for j in range(0, seqlen - window_size, stride_size)]"
   ]
  },
  {
   "cell_type": "code",
   "execution_count": 51,
   "metadata": {},
   "outputs": [
    {
     "data": {
      "text/plain": [
       "(0, range(0, 200))"
      ]
     },
     "execution_count": 51,
     "metadata": {},
     "output_type": "execute_result"
    }
   ],
   "source": [
    "indeces[0]"
   ]
  },
  {
   "cell_type": "code",
   "execution_count": 52,
   "metadata": {},
   "outputs": [
    {
     "data": {
      "text/plain": [
       "(0, range(10, 210))"
      ]
     },
     "execution_count": 52,
     "metadata": {},
     "output_type": "execute_result"
    }
   ],
   "source": [
    "indeces[1]"
   ]
  },
  {
   "cell_type": "code",
   "execution_count": 53,
   "metadata": {},
   "outputs": [
    {
     "name": "stdout",
     "output_type": "stream",
     "text": [
      "range(860, 1060)\n",
      "860\n",
      "1060\n"
     ]
    }
   ],
   "source": [
    "for ii in np.random.permutation(len(indeces)):\n",
    "    i, r = indeces[ii]\n",
    "    print(r)\n",
    "    print(r.start)\n",
    "    print(r.stop)\n",
    "    break"
   ]
  },
  {
   "cell_type": "code",
   "execution_count": 54,
   "metadata": {},
   "outputs": [],
   "source": [
    "dataset = Dataset(data_path, verbose=True)"
   ]
  },
  {
   "cell_type": "code",
   "execution_count": 55,
   "metadata": {},
   "outputs": [],
   "source": [
    "dataset_size = len(dataset.samples)\n",
    "assert dataset_size > 0"
   ]
  },
  {
   "cell_type": "markdown",
   "metadata": {},
   "source": [
    "# Models Performance 2X"
   ]
  },
  {
   "cell_type": "code",
   "execution_count": 56,
   "metadata": {},
   "outputs": [],
   "source": [
    "class P2X(nn.Module):\n",
    "\n",
    "    def _initialize_weights(self):\n",
    "        nn.init.xavier_normal_(self.event_embedding.weight)\n",
    "        nn.init.xavier_normal_(self.inithid_fc.weight)\n",
    "        self.inithid_fc.bias.data.fill_(0.)\n",
    "        nn.init.xavier_normal_(self.concat_input_fc.weight)\n",
    "        nn.init.xavier_normal_(self.output_fc.weight)\n",
    "        self.output_fc.bias.data.fill_(0.)\n",
    "\n",
    "    def __init__(self, event_dim, control_dim, init_dim, hidden_dim,\n",
    "                 inithid_fc = None, gru_layers=3, gru_dropout=0.3):\n",
    "        super().__init__()\n",
    "\n",
    "        # Parameters initialization\n",
    "        self.event_dim = event_dim\n",
    "        self.control_dim = control_dim\n",
    "        self.init_dim = init_dim\n",
    "        self.hidden_dim = hidden_dim\n",
    "        self.gru_layers = gru_layers\n",
    "        self.concat_dim = event_dim + 1 + control_dim\n",
    "        self.input_dim = hidden_dim\n",
    "        self.output_dim = event_dim\n",
    "\n",
    "        self.primary_event = self.event_dim - 1\n",
    "\n",
    "        #Model Layers\n",
    "\n",
    "        self.inithid_fc = nn.Linear(init_dim, gru_layers * hidden_dim)\n",
    "        self.inithid_fc_activation = nn.Tanh()\n",
    "\n",
    "        self.event_embedding = nn.Embedding(event_dim, event_dim)\n",
    "        self.concat_input_fc = nn.Linear(self.concat_dim, self.input_dim)\n",
    "        self.concat_input_fc_activation = nn.LeakyReLU(0.1, inplace=True)\n",
    "\n",
    "        self.gru = nn.GRU(self.input_dim, self.hidden_dim,\n",
    "                          num_layers=gru_layers, dropout=gru_dropout)\n",
    "        self.output_fc = nn.Linear(hidden_dim * gru_layers, self.output_dim)\n",
    "        self.output_fc_activation = nn.Softmax(dim=-1)\n",
    "\n",
    "        self._initialize_weights()\n",
    "\n",
    "    def forward(self, event, control=None, hidden=None):\n",
    "        # One step forward\n",
    "\n",
    "        assert len(event.shape) == 2\n",
    "        assert event.shape[0] == 1\n",
    "        batch_size = event.shape[1]\n",
    "        event = self.event_embedding(event)\n",
    "\n",
    "        if control is None:\n",
    "            default = torch.ones(1, batch_size, 1).to(device)\n",
    "            control = torch.zeros(1, batch_size, self.control_dim).to(device)\n",
    "        else:\n",
    "            default = torch.zeros(1, batch_size, 1).to(device)\n",
    "            assert control.shape == (1, batch_size, self.control_dim)\n",
    "\n",
    "        concat = torch.cat([event, default, control], -1)\n",
    "        input = self.concat_input_fc(concat)  #nn.Linear(self.concat_dim, self.input_dim)\n",
    "        input = self.concat_input_fc_activation(input)  #nn.LeakyReLU(0.1, inplace=True)\n",
    "\n",
    "        _, hidden = self.gru(input, hidden)  #nn.GRU(self.input_dim, self.hidden_dim,num_layers=gru_layers, dropout=gru_dropout)\n",
    "\n",
    "        output = hidden.permute(1, 0, 2).contiguous()\n",
    "        output = output.view(batch_size, -1).unsqueeze(0)\n",
    "        output = self.output_fc(output) #nn.Linear(hidden_dim * gru_layers, self.output_dim)\n",
    "        return output, hidden # output is under the form of a logit\n",
    "    \n",
    "    def _sample_event(self, output, greedy=True, temperature=1.0):\n",
    "        if greedy:\n",
    "            return output.argmax(-1)\n",
    "        else:\n",
    "            output = output / temperature\n",
    "            probs = self.output_fc_activation(output)\n",
    "            return Categorical(probs).sample()\n",
    "    \n",
    "    def get_primary_event(self, batch_size):\n",
    "        return torch.LongTensor([[self.primary_event] * batch_size]).to(device)\n",
    "\n",
    "    def init_to_hidden(self, init):\n",
    "        # [batch_size, init_dim]\n",
    "        batch_size = init.shape[0]\n",
    "        out = self.inithid_fc(init)\n",
    "        out = self.inithid_fc_activation(out)\n",
    "        out = out.view(self.gru_layers, batch_size, self.hidden_dim)\n",
    "        return out\n",
    "    \n",
    "    def expand_controls(self, controls, steps):\n",
    "        # [1 or steps, batch_size, control_dim]\n",
    "        assert len(controls.shape) == 3\n",
    "        assert controls.shape[2] == self.control_dim\n",
    "        if controls.shape[0] > 1:\n",
    "            assert controls.shape[0] >= steps\n",
    "            return controls[:steps]\n",
    "        return controls.repeat(steps, 1, 1)\n",
    "    \n",
    "    def generate(self, init, batch_size, init_dim, steps, events = None, controls = None,\n",
    "                 verbose = True, greedy = 1.0, temperature = 1.0):\n",
    "        batch_size = batch_size\n",
    "        self.init_dim = init_dim\n",
    "\n",
    "        assert init.shape[1] == self.init_dim\n",
    "        assert steps > 0\n",
    "\n",
    "        use_teacher_forcing = events is not None\n",
    "\n",
    "        if use_teacher_forcing:\n",
    "            assert len(events.shape) == 2\n",
    "            assert events.shape[0] >= steps - 1\n",
    "            events = events[:steps-1]\n",
    "\n",
    "        event = self.get_primary_event(batch_size)\n",
    "\n",
    "        use_control = controls is not None\n",
    "\n",
    "        if use_control:\n",
    "            controls = self.expand_controls(controls, steps)\n",
    "        hidden = self.init_to_hidden(init)\n",
    "\n",
    "        outputs = []\n",
    "        step_iter = range(steps)\n",
    "\n",
    "        if verbose:\n",
    "            step_iter = Bar('Generating').iter(step_iter)\n",
    "\n",
    "        for step in step_iter:\n",
    "            #control = controls[step].unsqueeze(0) if use_control else None\n",
    "            control = None\n",
    "            output, hidden = self.forward(event, control, hidden)\n",
    "\n",
    "            use_greedy = np.random.random() < greedy\n",
    "            event = self._sample_event(output, greedy=use_greedy,\n",
    "                                       temperature=temperature)\n",
    "            \n",
    "            #here outputs are served in the lo-git format\n",
    "            outputs.append(output)\n",
    "            #\n",
    "            #if use_teacher_forcing and step < steps - 1: # avoid last one\n",
    "            #    if np.random.random() <= teacher_forcing_ratio:\n",
    "            #        event = events[step].unsqueeze(0)\n",
    "        \n",
    "        return torch.cat(outputs, 0)\n",
    "        \n",
    "\n",
    "class P2XSecondary(nn.Module):\n",
    "\n",
    "    def _initialize_weights(self):\n",
    "        nn.init.xavier_normal_(self.event_embedding.weight)\n",
    "        nn.init.xavier_normal_(self.inithid_fc.weight)\n",
    "        self.inithid_fc.bias.data.fill_(0.)\n",
    "        nn.init.xavier_normal_(self.concat_input_fc.weight)\n",
    "        nn.init.xavier_normal_(self.output_fc.weight)\n",
    "        self.output_fc.bias.data.fill_(0.)\n",
    "\n",
    "    def __init__(self, event_dim, control_dim, init_dim, hidden_dim,\n",
    "                 inithid_fc = None, gru_layers=3, gru_dropout=0.3):\n",
    "        super().__init__()\n",
    "\n",
    "        # Parameters initialization\n",
    "        self.event_dim = event_dim\n",
    "        self.control_dim = control_dim\n",
    "        self.init_dim = init_dim\n",
    "        self.hidden_dim = hidden_dim\n",
    "        self.gru_layers = gru_layers\n",
    "        self.concat_dim = event_dim + 1 + control_dim\n",
    "        self.input_dim = hidden_dim\n",
    "        self.output_dim = event_dim\n",
    "\n",
    "        self.primary_event = self.event_dim - 1\n",
    "\n",
    "        #Model Layers\n",
    "\n",
    "        self.inithid_fc = nn.Linear(init_dim, gru_layers * hidden_dim)\n",
    "        self.inithid_fc_activation = nn.Tanh()\n",
    "\n",
    "        self.event_embedding = nn.Embedding(event_dim, event_dim)\n",
    "        self.concat_input_fc = nn.Linear(self.concat_dim, self.input_dim)\n",
    "        self.concat_input_fc_activation = nn.LeakyReLU(0.1, inplace=True)\n",
    "\n",
    "        self.gru = nn.GRU(self.input_dim, self.hidden_dim,\n",
    "                          num_layers=gru_layers, dropout=gru_dropout)\n",
    "        self.output_fc = nn.Linear(hidden_dim * gru_layers, self.output_dim)\n",
    "        self.output_fc_activation = nn.Softmax(dim=-1)\n",
    "\n",
    "        self._initialize_weights()\n",
    "\n",
    "    def forward(self, event, outputA, control=None, hidden=None):\n",
    "        # One step forward\n",
    "\n",
    "        assert len(event.shape) == 2\n",
    "        assert event.shape[0] == 1\n",
    "        batch_size = event.shape[1]\n",
    "        event = self.event_embedding(event)\n",
    "\n",
    "        if control is None:\n",
    "            default = torch.ones(1, batch_size, 1).to(device)\n",
    "            control = torch.zeros(1, batch_size, self.control_dim).to(device)\n",
    "        else:\n",
    "            default = torch.zeros(1, batch_size, 1).to(device)\n",
    "            assert control.shape == (1, batch_size, self.control_dim)\n",
    "\n",
    "        concat = torch.cat([event, default, control], -1)\n",
    "        input = self.concat_input_fc(concat)  #nn.Linear(self.concat_dim, self.input_dim)\n",
    "        input = self.concat_input_fc_activation(input)  #nn.LeakyReLU(0.1, inplace=True)\n",
    "\n",
    "        _, hidden = self.gru(input, hidden)  #nn.GRU(self.input_dim, self.hidden_dim,num_layers=gru_layers, dropout=gru_dropout)\n",
    "\n",
    "        output = hidden.permute(1, 0, 2).contiguous()\n",
    "        output = output.view(batch_size, -1).unsqueeze(0)\n",
    "        output = self.output_fc(output) #nn.Linear(hidden_dim * gru_layers, self.output_dim)\n",
    "\n",
    "        return output, hidden # output is under the form of a logit\n",
    "    \n",
    "    def _sample_event(self, output, greedy=True, temperature=1.0):\n",
    "        if greedy:\n",
    "            return output.argmax(-1)\n",
    "        else:\n",
    "            output = output / temperature\n",
    "            probs = self.output_fc_activation(output)\n",
    "            return Categorical(probs).sample()\n",
    "    \n",
    "    def get_primary_event(self, batch_size):\n",
    "        return torch.LongTensor([[self.primary_event] * batch_size]).to(device)\n",
    "\n",
    "    def init_to_hidden(self, init):\n",
    "        # [batch_size, init_dim]\n",
    "        batch_size = init.shape[0]\n",
    "        out = self.inithid_fc(init)\n",
    "        out = self.inithid_fc_activation(out)\n",
    "        out = out.view(self.gru_layers, batch_size, self.hidden_dim)\n",
    "        return out\n",
    "    \n",
    "    def expand_controls(self, controls, steps):\n",
    "        # [1 or steps, batch_size, control_dim]\n",
    "        assert len(controls.shape) == 3\n",
    "        assert controls.shape[2] == self.control_dim\n",
    "        if controls.shape[0] > 1:\n",
    "            assert controls.shape[0] >= steps\n",
    "            return controls[:steps]\n",
    "        return controls.repeat(steps, 1, 1)\n",
    "    \n",
    "    def generate(self, init, batch_size, init_dim, steps, events = None, controls = None, outputA = None,\n",
    "                 verbose = True, greedy = 1.0, temperature = 1.0):\n",
    "        batch_size = batch_size\n",
    "        self.init_dim = init_dim\n",
    "\n",
    "        assert init.shape[1] == self.init_dim\n",
    "        assert steps > 0\n",
    "\n",
    "        use_teacher_forcing = events is not None\n",
    "\n",
    "        if use_teacher_forcing:\n",
    "            assert len(events.shape) == 2\n",
    "            assert events.shape[0] >= steps - 1\n",
    "            events = events[:steps-1]\n",
    "\n",
    "        event = self.get_primary_event(batch_size)\n",
    "\n",
    "        use_control = controls is not None\n",
    "\n",
    "        if use_control:\n",
    "            controls = self.expand_controls(controls, steps)\n",
    "        hidden = self.init_to_hidden(init)\n",
    "\n",
    "        outputs = []\n",
    "        step_iter = range(steps)\n",
    "\n",
    "        if verbose:\n",
    "            step_iter = Bar('Generating').iter(step_iter)\n",
    "\n",
    "        for step in step_iter:\n",
    "            #control = controls[step].unsqueeze(0) if use_control else None\n",
    "            control = None\n",
    "            output, _ = self.forward(event,outputA, control, hidden)\n",
    "\n",
    "            use_greedy = np.random.random() < greedy\n",
    "            event = self._sample_event(output, greedy=use_greedy,\n",
    "                                       temperature=temperature)\n",
    "            \n",
    "            #here outputs are served in the logit format\n",
    "            outputs.append(output)\n",
    "            #\n",
    "            #if use_teacher_forcing and step < steps - 1: # avoid last one\n",
    "            #    if np.random.random() <= teacher_forcing_ratio:\n",
    "            #        event = events[step].unsqueeze(0)\n",
    "        \n",
    "        outputs = torch.cat(outputs, 0)\n",
    "\n",
    "        print(outputs.shape)\n",
    "        print(outputA.shape)\n",
    "\n",
    "        concatenated_vectors = torch.cat((outputA, output))\n",
    "        return concatenated_vectors\n",
    "        \n"
   ]
  },
  {
   "cell_type": "code",
   "execution_count": 57,
   "metadata": {},
   "outputs": [],
   "source": [
    "init = torch.randn(batch_size, init_dim).to(device)"
   ]
  },
  {
   "cell_type": "markdown",
   "metadata": {},
   "source": [
    "# Train"
   ]
  },
  {
   "cell_type": "code",
   "execution_count": 58,
   "metadata": {},
   "outputs": [],
   "source": [
    "device = 'cpu'"
   ]
  },
  {
   "cell_type": "code",
   "execution_count": 59,
   "metadata": {},
   "outputs": [],
   "source": [
    "model_config = {\n",
    "    'init_dim': init_dim,\n",
    "    'event_dim': event_dim,\n",
    "    'control_dim': control_dim,\n",
    "    'hidden_dim': hidden_dim,\n",
    "    'gru_layers': gru_layers,\n",
    "    'gru_dropout': gru_droput,\n",
    "}"
   ]
  },
  {
   "cell_type": "code",
   "execution_count": 64,
   "metadata": {},
   "outputs": [],
   "source": [
    "from modelF import PerformanceRNN2\n",
    "from model import PerformanceRNN"
   ]
  },
  {
   "cell_type": "code",
   "execution_count": 65,
   "metadata": {},
   "outputs": [],
   "source": [
    "\"\"\"\n",
    "model = P2X(**model_config).to(device)\n",
    "model2 = P2XSecondary(**model_config).to(device)\n",
    "modelB = P2X(**model_config).to(device)\n",
    "\"\"\" \n",
    "model = PerformanceRNN(**model_config).to(device)\n",
    "model2 = PerformanceRNN2(**model_config).to(device)\n",
    "\n",
    "params = list(model.parameters()) + list(model.parameters())\n",
    "paramsB = list(model.parameters()) + list(model2.parameters())\n",
    "\n",
    "optimizer = optim.Adam(paramsB, lr=learning_rate)"
   ]
  },
  {
   "cell_type": "code",
   "execution_count": 66,
   "metadata": {},
   "outputs": [],
   "source": [
    "loss_function = nn.CrossEntropyLoss()"
   ]
  },
  {
   "cell_type": "code",
   "execution_count": 63,
   "metadata": {},
   "outputs": [
    {
     "data": {
      "text/plain": [
       "Dataset(root=\"Processed-RAW\", samples=152, avglen=12133.546052631578)"
      ]
     },
     "execution_count": 63,
     "metadata": {},
     "output_type": "execute_result"
    }
   ],
   "source": [
    "dataset"
   ]
  },
  {
   "cell_type": "code",
   "execution_count": 69,
   "metadata": {},
   "outputs": [
    {
     "ename": "AttributeError",
     "evalue": "'int' object has no attribute 'shape'",
     "output_type": "error",
     "traceback": [
      "\u001b[0;31m---------------------------------------------------------------------------\u001b[0m",
      "\u001b[0;31mAttributeError\u001b[0m                            Traceback (most recent call last)",
      "Cell \u001b[0;32mIn[69], line 23\u001b[0m\n\u001b[1;32m     20\u001b[0m     controls \u001b[38;5;241m=\u001b[39m \u001b[38;5;28;01mNone\u001b[39;00m\n\u001b[1;32m     22\u001b[0m init \u001b[38;5;241m=\u001b[39m torch\u001b[38;5;241m.\u001b[39mrandn(batch_size, model\u001b[38;5;241m.\u001b[39minit_dim)\u001b[38;5;241m.\u001b[39mto(device)\n\u001b[0;32m---> 23\u001b[0m outputs \u001b[38;5;241m=\u001b[39m \u001b[43mmodel\u001b[49m\u001b[38;5;241;43m.\u001b[39;49m\u001b[43mgenerate\u001b[49m\u001b[43m(\u001b[49m\u001b[43minit\u001b[49m\u001b[43m,\u001b[49m\u001b[43mbatch_size\u001b[49m\u001b[43m,\u001b[49m\u001b[43m \u001b[49m\u001b[43mmodel\u001b[49m\u001b[38;5;241;43m.\u001b[39;49m\u001b[43minit_dim\u001b[49m\u001b[43m,\u001b[49m\u001b[43m \u001b[49m\u001b[43mwindow_size\u001b[49m\u001b[43m,\u001b[49m\u001b[43m \u001b[49m\n\u001b[1;32m     24\u001b[0m \u001b[43m                        \u001b[49m\u001b[43mevents\u001b[49m\u001b[43m[\u001b[49m\u001b[43m:\u001b[49m\u001b[38;5;241;43m-\u001b[39;49m\u001b[38;5;241;43m1\u001b[39;49m\u001b[43m]\u001b[49m\u001b[43m,\u001b[49m\u001b[43m \u001b[49m\u001b[43mcontrols\u001b[49m\u001b[43m)\u001b[49m\n\u001b[1;32m     26\u001b[0m \u001b[38;5;28;01massert\u001b[39;00m outputs\u001b[38;5;241m.\u001b[39mshape[:\u001b[38;5;241m2\u001b[39m] \u001b[38;5;241m==\u001b[39m events\u001b[38;5;241m.\u001b[39mshape[:\u001b[38;5;241m2\u001b[39m]\n\u001b[1;32m     27\u001b[0m loss \u001b[38;5;241m=\u001b[39m loss_function(outputs\u001b[38;5;241m.\u001b[39mview(\u001b[38;5;241m-\u001b[39m\u001b[38;5;241m1\u001b[39m, event_dim), events\u001b[38;5;241m.\u001b[39mview(\u001b[38;5;241m-\u001b[39m\u001b[38;5;241m1\u001b[39m))\n",
      "File \u001b[0;32m~/Documents/GitHub/TesiFinal/model.py:117\u001b[0m, in \u001b[0;36mPerformanceRNN.generate\u001b[0;34m(self, init, steps, events, controls, greedy, temperature, teacher_forcing_ratio, output_type, verbose)\u001b[0m\n\u001b[1;32m    115\u001b[0m use_teacher_forcing \u001b[38;5;241m=\u001b[39m events \u001b[38;5;129;01mis\u001b[39;00m \u001b[38;5;129;01mnot\u001b[39;00m \u001b[38;5;28;01mNone\u001b[39;00m\n\u001b[1;32m    116\u001b[0m \u001b[38;5;28;01mif\u001b[39;00m use_teacher_forcing:\n\u001b[0;32m--> 117\u001b[0m     \u001b[38;5;28;01massert\u001b[39;00m \u001b[38;5;28mlen\u001b[39m(\u001b[43mevents\u001b[49m\u001b[38;5;241;43m.\u001b[39;49m\u001b[43mshape\u001b[49m) \u001b[38;5;241m==\u001b[39m \u001b[38;5;241m2\u001b[39m\n\u001b[1;32m    118\u001b[0m     \u001b[38;5;28;01massert\u001b[39;00m events\u001b[38;5;241m.\u001b[39mshape[\u001b[38;5;241m0\u001b[39m] \u001b[38;5;241m>\u001b[39m\u001b[38;5;241m=\u001b[39m steps \u001b[38;5;241m-\u001b[39m \u001b[38;5;241m1\u001b[39m\n\u001b[1;32m    119\u001b[0m     events \u001b[38;5;241m=\u001b[39m events[:steps\u001b[38;5;241m-\u001b[39m\u001b[38;5;241m1\u001b[39m]\n",
      "\u001b[0;31mAttributeError\u001b[0m: 'int' object has no attribute 'shape'"
     ]
    }
   ],
   "source": [
    "\n",
    "#try:\n",
    "batch_gen = dataset.batches(batch_size, window_size, stride_size)\n",
    "for iteration, data in enumerate(batch_gen):\n",
    "    e1 = data[0]\n",
    "    c1 = data[1]\n",
    "    e2 = data[2]\n",
    "    c2 = data[3]\n",
    "\n",
    "    # First Model process\n",
    "\n",
    "    events = torch.LongTensor(e1).to(device)\n",
    "    assert events.shape[0] == window_size\n",
    "    assert len(events.shape) == 2\n",
    "    assert events.shape[0] >= window_size - 1\n",
    "\n",
    "    if np.random.random() < control_ratio:\n",
    "        controls = torch.FloatTensor(c1).to(device)\n",
    "        assert controls.shape[0] == window_size\n",
    "    else:\n",
    "        controls = None\n",
    "\n",
    "    init = torch.randn(batch_size, model.init_dim).to(device)\n",
    "    outputs = model.generate(init,batch_size, model.init_dim, window_size, \n",
    "                            events[:-1], controls)\n",
    "    \n",
    "    assert outputs.shape[:2] == events.shape[:2]\n",
    "    loss = loss_function(outputs.view(-1, event_dim), events.view(-1))\n",
    "    #print(outputs)\n",
    "\n",
    "    # Second Model process\n",
    "\n",
    "    eventsB = torch.LongTensor(e2).to(device)\n",
    "    assert eventsB.shape[0] == window_size\n",
    "    assert len(eventsB.shape) == 2\n",
    "    assert eventsB.shape[0] >= window_size - 1\n",
    "\n",
    "    if np.random.random() < control_ratio:\n",
    "        controls = torch.FloatTensor(c2).to(device)\n",
    "        assert controls.shape[0] == window_size\n",
    "    else:\n",
    "        controls = None\n",
    "\n",
    "    init = torch.randn(batch_size, model2.init_dim).to(device)\n",
    "    outputsB = model2.generate(init,batch_size, model2.init_dim, window_size, \n",
    "                            events=eventsB[:-1], events2=outputs[:-1], controls=controls)\n",
    "    \n",
    "    assert outputsB.shape[:2] == eventsB.shape[:2]\n",
    "    #eventsF = torch.cat((events,eventsB))\n",
    "    #outputsF = torch.cat((outputs, outputsB),2)\n",
    "    #print(outputsF)\n",
    "\n",
    "    loss = loss + loss_function(outputsB.view(-1, event_dim), eventsB.view(-1))\n",
    "\n",
    "    model.zero_grad()\n",
    "    model2.zero_grad()\n",
    "    loss.backward()\n",
    "\n",
    "    #concatenated_vectors = torch.cat((outputs, outputsB),2)\n",
    "    #print(outputsF.shape)\n",
    "    #print(outputsB.shape)\n",
    "    #print(events.shape)\n",
    "\n",
    "    norm = utils.compute_gradient_norm(model.parameters())\n",
    "    nn.utils.clip_grad_norm_(model.parameters(), 1.0)\n",
    "    \n",
    "    optimizer.step()\n",
    "\n",
    "    print(f'iter {iteration}, loss: {loss.item()}')\n",
    "\n",
    "    \n",
    "\n",
    "#except:\n",
    "#    print(\"banane\")\n"
   ]
  },
  {
   "cell_type": "code",
   "execution_count": null,
   "metadata": {},
   "outputs": [
    {
     "data": {
      "text/plain": [
       "'\\nalfa = None\\n\\nbatch_gen = dataset.batches(batch_size, window_size, stride_size)\\nfor iteration, data in enumerate(batch_gen):\\n    e1 = data[0]\\n    c1 = data[1]\\n    e2 = data[2]\\n    c2 = data[3]\\n\\n    events = torch.LongTensor(e1).to(device)\\n    assert events.shape[0] == window_size\\n    assert len(events.shape) == 2\\n    assert events.shape[0] >= window_size - 1\\n\\n    print(window_size)\\n    print(events.shape[0])\\n    print(events.shape)\\n    print(events[0])\\n\\n    if np.random.random() < control_ratio:\\n        controls = torch.FloatTensor(c1).to(device)\\n        assert controls.shape[0] == window_size\\n    else:\\n        controls = None\\n\\n    init = torch.randn(batch_size, model.init_dim).to(device)\\n    outputs = model.generate(init,batch_size, model.init_dim, window_size, \\n                            events=events[:-1], controls=controls)\\n    assert outputs.shape[:2] == events.shape[:2]\\n\\n    print(outputs)\\n\\n    events = torch.LongTensor(e2).to(device)\\n    assert events.shape[0] == window_size\\n    assert len(events.shape) == 2\\n    assert events.shape[0] >= window_size - 1\\n\\n    print(window_size)\\n    print(events.shape[0])\\n    print(events.shape)\\n    print(events[0])\\n\\n    if np.random.random() < control_ratio:\\n        controls = torch.FloatTensor(c2).to(device)\\n        assert controls.shape[0] == window_size\\n    else:\\n        controls = None\\n\\n    outputs = model2.generate(init,batch_size, model.init_dim, window_size, \\n                            events=events[:-1], controls=controls, outputA = outputs)\\n    \\n    print(outputs)\\n    alfa = outputs.detach().numpy().T \\n\\n    break\\n    '"
      ]
     },
     "execution_count": 63,
     "metadata": {},
     "output_type": "execute_result"
    }
   ],
   "source": [
    "\"\"\"\n",
    "alfa = None\n",
    "\n",
    "batch_gen = dataset.batches(batch_size, window_size, stride_size)\n",
    "for iteration, data in enumerate(batch_gen):\n",
    "    e1 = data[0]\n",
    "    c1 = data[1]\n",
    "    e2 = data[2]\n",
    "    c2 = data[3]\n",
    "\n",
    "    events = torch.LongTensor(e1).to(device)\n",
    "    assert events.shape[0] == window_size\n",
    "    assert len(events.shape) == 2\n",
    "    assert events.shape[0] >= window_size - 1\n",
    "\n",
    "    print(window_size)\n",
    "    print(events.shape[0])\n",
    "    print(events.shape)\n",
    "    print(events[0])\n",
    "\n",
    "    if np.random.random() < control_ratio:\n",
    "        controls = torch.FloatTensor(c1).to(device)\n",
    "        assert controls.shape[0] == window_size\n",
    "    else:\n",
    "        controls = None\n",
    "\n",
    "    init = torch.randn(batch_size, model.init_dim).to(device)\n",
    "    outputs = model.generate(init,batch_size, model.init_dim, window_size, \n",
    "                            events=events[:-1], controls=controls)\n",
    "    assert outputs.shape[:2] == events.shape[:2]\n",
    "\n",
    "    print(outputs)\n",
    "\n",
    "    events = torch.LongTensor(e2).to(device)\n",
    "    assert events.shape[0] == window_size\n",
    "    assert len(events.shape) == 2\n",
    "    assert events.shape[0] >= window_size - 1\n",
    "\n",
    "    print(window_size)\n",
    "    print(events.shape[0])\n",
    "    print(events.shape)\n",
    "    print(events[0])\n",
    "\n",
    "    if np.random.random() < control_ratio:\n",
    "        controls = torch.FloatTensor(c2).to(device)\n",
    "        assert controls.shape[0] == window_size\n",
    "    else:\n",
    "        controls = None\n",
    "\n",
    "    outputs = model2.generate(init,batch_size, model.init_dim, window_size, \n",
    "                            events=events[:-1], controls=controls, outputA = outputs)\n",
    "    \n",
    "    print(outputs)\n",
    "    alfa = outputs.detach().numpy().T \n",
    "\n",
    "    break\n",
    "    \"\"\""
   ]
  },
  {
   "cell_type": "markdown",
   "metadata": {},
   "source": [
    "# Final Shot"
   ]
  },
  {
   "cell_type": "code",
   "execution_count": null,
   "metadata": {},
   "outputs": [],
   "source": [
    "from modelF import PerformanceRNN, Guren"
   ]
  },
  {
   "cell_type": "code",
   "execution_count": null,
   "metadata": {},
   "outputs": [],
   "source": [
    "model_config = {\n",
    "    'init_dim': init_dim,\n",
    "    'event_dim': event_dim,\n",
    "    'control_dim': control_dim,\n",
    "    'hidden_dim': hidden_dim,\n",
    "    'gru_layers': gru_layers,\n",
    "    'gru_dropout': gru_droput,\n",
    "    'device': 'cuda'\n",
    "}"
   ]
  },
  {
   "cell_type": "code",
   "execution_count": null,
   "metadata": {},
   "outputs": [],
   "source": [
    "device = 'cuda'"
   ]
  },
  {
   "cell_type": "code",
   "execution_count": null,
   "metadata": {},
   "outputs": [],
   "source": [
    "model = PerformanceRNN(**model_config).to(device)\n",
    "model2 = PerformanceRNN(**model_config).to(device)"
   ]
  },
  {
   "cell_type": "code",
   "execution_count": null,
   "metadata": {},
   "outputs": [],
   "source": [
    "guren_config = {\n",
    "    'modelA' : model,\n",
    "    'modelB' : model2\n",
    "}"
   ]
  },
  {
   "cell_type": "code",
   "execution_count": null,
   "metadata": {},
   "outputs": [],
   "source": [
    "guren = Guren(**guren_config).to(device)"
   ]
  },
  {
   "cell_type": "code",
   "execution_count": null,
   "metadata": {},
   "outputs": [
    {
     "ename": "AttributeError",
     "evalue": "'numpy.ndarray' object has no attribute 'to'",
     "output_type": "error",
     "traceback": [
      "\u001b[0;31m---------------------------------------------------------------------------\u001b[0m",
      "\u001b[0;31mAttributeError\u001b[0m                            Traceback (most recent call last)",
      "Cell \u001b[0;32mIn[74], line 4\u001b[0m\n\u001b[1;32m      2\u001b[0m outputs \u001b[38;5;241m=\u001b[39m []\n\u001b[1;32m      3\u001b[0m \u001b[38;5;28;01mfor\u001b[39;00m iteration, data \u001b[38;5;129;01min\u001b[39;00m \u001b[38;5;28menumerate\u001b[39m(batch_gen):\n\u001b[0;32m----> 4\u001b[0m     e1 \u001b[38;5;241m=\u001b[39m \u001b[43mdata\u001b[49m\u001b[43m[\u001b[49m\u001b[38;5;241;43m0\u001b[39;49m\u001b[43m]\u001b[49m\u001b[38;5;241;43m.\u001b[39;49m\u001b[43mto\u001b[49m(device)\n\u001b[1;32m      5\u001b[0m     c1 \u001b[38;5;241m=\u001b[39m data[\u001b[38;5;241m1\u001b[39m]\u001b[38;5;241m.\u001b[39mto(device)\n\u001b[1;32m      6\u001b[0m     e2 \u001b[38;5;241m=\u001b[39m data[\u001b[38;5;241m2\u001b[39m]\u001b[38;5;241m.\u001b[39mto(device)\n",
      "\u001b[0;31mAttributeError\u001b[0m: 'numpy.ndarray' object has no attribute 'to'"
     ]
    }
   ],
   "source": [
    "batch_gen = dataset.batches(batch_size, window_size, stride_size)\n",
    "outputs = []\n",
    "for iteration, data in enumerate(batch_gen):\n",
    "    e1 = data[0]\n",
    "    c1 = data[1]\n",
    "    e2 = data[2]\n",
    "    c2 = data[3]\n",
    "\n",
    "    output = guren.generate(e1,e2,c1,c2,batch_size,window_size)\n",
    "    outputs.append(output)\n",
    "    print(iteration + \" \\ \" +len(batch_gen))\n"
   ]
  },
  {
   "cell_type": "code",
   "execution_count": null,
   "metadata": {},
   "outputs": [],
   "source": []
  }
 ],
 "metadata": {
  "kernelspec": {
   "display_name": "Tesi-XJQxD342",
   "language": "python",
   "name": "python3"
  },
  "language_info": {
   "codemirror_mode": {
    "name": "ipython",
    "version": 3
   },
   "file_extension": ".py",
   "mimetype": "text/x-python",
   "name": "python",
   "nbconvert_exporter": "python",
   "pygments_lexer": "ipython3",
   "version": "3.9.6"
  }
 },
 "nbformat": 4,
 "nbformat_minor": 2
}
