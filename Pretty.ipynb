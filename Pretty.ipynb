{
 "cells": [
  {
   "cell_type": "code",
   "execution_count": 1,
   "metadata": {},
   "outputs": [
    {
     "name": "stderr",
     "output_type": "stream",
     "text": [
      "/var/folders/f6/8tvg8t2s63x9ljzqgvcb66600000gn/T/ipykernel_8779/2925211331.py:9: DeprecationWarning: Importing display from IPython.core.display is deprecated since IPython 7.14, please import from IPython display\n",
      "  from IPython.core.display import display\n"
     ]
    }
   ],
   "source": [
    "#Importing Libraries\n",
    "import numpy as np \n",
    "import pandas as pd \n",
    "import torch\n",
    "from collections import Counter\n",
    "import random\n",
    "import IPython\n",
    "from IPython.display import Image, Audio\n",
    "from IPython.core.display import display\n",
    "from PIL import Image as PILImage\n",
    "import music21\n",
    "from music21 import *\n",
    "import matplotlib.pyplot as plt \n",
    "from sklearn.model_selection import train_test_split\n",
    "from tqdm import tqdm\n",
    "from music21 import converter, instrument, stream\n",
    "\n",
    "import seaborn as sns\n",
    "import matplotlib.pyplot as plt\n",
    "import matplotlib.patches as mpatches\n",
    "%matplotlib inline\n",
    "\n",
    "import os\n",
    "import sys\n",
    "\n",
    "import warnings\n",
    "warnings.filterwarnings(\"ignore\")\n",
    "warnings.simplefilter(\"ignore\")\n",
    "np.random.seed(420)"
   ]
  },
  {
   "cell_type": "code",
   "execution_count": 2,
   "metadata": {},
   "outputs": [],
   "source": [
    "from torch.utils.data import Dataset, DataLoader\n",
    "\n",
    "import torch\n",
    "import torch.nn as nn\n",
    "import torch.optim as optim"
   ]
  },
  {
   "cell_type": "code",
   "execution_count": 4,
   "metadata": {},
   "outputs": [],
   "source": [
    "from mido import MidiFile"
   ]
  },
  {
   "cell_type": "code",
   "execution_count": 49,
   "metadata": {},
   "outputs": [
    {
     "name": "stdout",
     "output_type": "stream",
     "text": [
      "3\n"
     ]
    }
   ],
   "source": [
    "mid = MidiFile('./Dataset/MozartSonataInD.mid')\n",
    "print(len(mid.tracks))"
   ]
  },
  {
   "cell_type": "code",
   "execution_count": 51,
   "metadata": {},
   "outputs": [
    {
     "name": "stdout",
     "output_type": "stream",
     "text": [
      "MetaMessage('track_name', name='MozartSonataInD', time=0)\n",
      "MetaMessage('time_signature', numerator=4, denominator=4, clocks_per_click=24, notated_32nd_notes_per_beat=8, time=0)\n",
      "MetaMessage('set_tempo', tempo=500000, time=0)\n",
      "MetaMessage('end_of_track', time=0)\n",
      "----------------------\n",
      "MetaMessage('track_name', name='Grand Piano', time=1920)\n",
      "program_change channel=0 program=0 time=0\n",
      "note_on channel=0 note=74 velocity=107 time=4\n",
      "note_on channel=0 note=78 velocity=107 time=0\n",
      "note_on channel=0 note=81 velocity=107 time=0\n",
      "----------------------\n",
      "MetaMessage('track_name', name='Grand Piano (no kbd)', time=1920)\n",
      "program_change channel=3 program=0 time=0\n",
      "note_on channel=3 note=62 velocity=107 time=4\n",
      "note_on channel=3 note=66 velocity=107 time=0\n",
      "note_on channel=3 note=69 velocity=107 time=0\n",
      "----------------------\n"
     ]
    }
   ],
   "source": [
    "cont = 0\n",
    "for m in mid.tracks:\n",
    "    for mex in m:\n",
    "        if(not 'control_change' in str(mex)):\n",
    "            cont += 1\n",
    "            if(cont > 5):\n",
    "                break\n",
    "            print(mex)\n",
    "    print(\"----------------------\")\n",
    "    cont = 0\n"
   ]
  },
  {
   "cell_type": "code",
   "execution_count": 52,
   "metadata": {},
   "outputs": [],
   "source": [
    "streams = list()\n",
    "for m in mid.tracks:\n",
    "    streams.append(m)"
   ]
  },
  {
   "cell_type": "code",
   "execution_count": null,
   "metadata": {},
   "outputs": [],
   "source": []
  }
 ],
 "metadata": {
  "kernelspec": {
   "display_name": "Music",
   "language": "python",
   "name": "python3"
  },
  "language_info": {
   "codemirror_mode": {
    "name": "ipython",
    "version": 3
   },
   "file_extension": ".py",
   "mimetype": "text/x-python",
   "name": "python",
   "nbconvert_exporter": "python",
   "pygments_lexer": "ipython3",
   "version": "3.9.6"
  }
 },
 "nbformat": 4,
 "nbformat_minor": 2
}
